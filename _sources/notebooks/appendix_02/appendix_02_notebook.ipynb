{
 "cells": [
  {
   "cell_type": "markdown",
   "id": "d21427c0-bf1c-4705-b383-020b6523a36e",
   "metadata": {},
   "source": [
    "(appendix_02)=\n",
    "\n",
    "# Appendix 2: `datetime` Module\n",
    "\n",
    "It is often neccesary to know when data were collected such as in chemical kinetics. This information may be stored in the file itself or as a timestamp at the end of the file name. Not only is it neccesary to extract this date and time information, it is often also neccesary to calculate the times since the start of the experiment or between data points. This appendix covers Python's native `datetime` module useful for working with date and time information and extracting this information from data. The three object types covered here are listed below. The first two tell us when the data were collected while the third, `timedelta`, tells us the amount of time between two times or dates.\n",
    "\n",
    "**Table 1** Common `datetime` Objects\n",
    "| Object Type | Description |\n",
    ":-----------: | :---------------- |\n",
    "| `date` | Contains date informaing ingnoring time |\n",
    "| `datetime` | Contains date and time information | \n",
    "| `timedelta` | Contains change in date and time informatin |\n",
    "\n",
    "````{margin}\n",
    "```{note}\n",
    "We assume here that the data collection occured in one timezone and not across leap years. If this is not the case, see the [Python datetime documentation](https://docs.python.org/3/library/datetime.html) for dealing with these added complexities.\n",
    "```\n",
    "````\n",
    "````{margin}\n",
    "```{note}\n",
    "While there is a `time` object, it is not covered here because it is not supported by `timedelta`.\n",
    "```\n",
    "````\n",
    "\n",
    "We will start with what these objects are and how to work with them followed by how to use `datetime` to extract date and time information from data files. First, we need to import the `datetime` module."
   ]
  },
  {
   "cell_type": "code",
   "execution_count": 1,
   "id": "9c56150a-a211-40e5-8733-b1b68e5ff043",
   "metadata": {},
   "outputs": [],
   "source": [
    "import datetime"
   ]
  },
  {
   "cell_type": "markdown",
   "id": "b55efe79-fb67-4ec6-8642-e671bbefd83e",
   "metadata": {},
   "source": [
    "## Date and Time Data\n",
    "\n",
    "The datetime module stores date and time information in a `datetime`object. A `datetime` object can be created multiple ways such as explicitely indicating a specific date and time using the `datetime()` method. For example, below we indicate noon on Pi Day 2025. The `datetime()` method takes the year, month, day, hour, minutes, seconds, and microseconds as positional arguments in this order.\n",
    "\n",
    "~~~python\n",
    "datetime.datetime(year, month, day, hour, minutes, seconds, microseconds) \n",
    "~~~"
   ]
  },
  {
   "cell_type": "code",
   "execution_count": 2,
   "id": "79463813-8e60-46ba-8a90-0eb784612228",
   "metadata": {},
   "outputs": [],
   "source": [
    "pi_day = datetime.datetime(2025, 3, 14, 12, 0, 0, 0) "
   ]
  },
  {
   "cell_type": "markdown",
   "id": "3304b8ba-a349-4430-b790-a30db62ccc45",
   "metadata": {},
   "source": [
    "The date and time information can also be provided to `datetime()` using keyword arguments like below."
   ]
  },
  {
   "cell_type": "code",
   "execution_count": 3,
   "id": "0815e92b-5ecf-43b0-b600-5d0ffb45df47",
   "metadata": {},
   "outputs": [],
   "source": [
    "mario_day = datetime.datetime(year=2025, month=3, day=10 ,hour=8, minute=10, second=0, microsecond=0)"
   ]
  },
  {
   "cell_type": "markdown",
   "id": "be352ad4-0724-4b2a-b7a5-06a70749d872",
   "metadata": {},
   "source": [
    "The current date and time can be accessed using the `now()` method for the `datetime` module. This function also accepts an optional timezone (`tz=`) argument. If no argument is provided, then `tz=None`. There is also a `datetime.datetime.today()` function that is equivalent to the `now()` function when no timezone is provided or `tz=None`. The `now()` function is preferred."
   ]
  },
  {
   "cell_type": "code",
   "execution_count": 4,
   "id": "8a445146-c5d7-4ea0-b44f-02fecee0d7e0",
   "metadata": {},
   "outputs": [
    {
     "data": {
      "text/plain": [
       "datetime.datetime(2025, 3, 16, 5, 54, 40, 601416)"
      ]
     },
     "execution_count": 4,
     "metadata": {},
     "output_type": "execute_result"
    }
   ],
   "source": [
    "now = datetime.datetime.now()\n",
    "now"
   ]
  },
  {
   "cell_type": "markdown",
   "id": "20b4144b-7bc1-4c05-a3de-6c1b80bd5bd7",
   "metadata": {},
   "source": [
    "## Changes in Date and Time\n",
    "\n",
    "The differences between two `datetime` objects can also be calculated by subtracting the two objects. The result is returned in a `timedelta`object."
   ]
  },
  {
   "cell_type": "code",
   "execution_count": 5,
   "id": "984fdc18-c96f-4978-b6ed-0b25cd2c9204",
   "metadata": {},
   "outputs": [
    {
     "data": {
      "text/plain": [
       "datetime.timedelta(days=4, seconds=13800)"
      ]
     },
     "execution_count": 5,
     "metadata": {},
     "output_type": "execute_result"
    }
   ],
   "source": [
    "delta = pi_day - mario_day\n",
    "delta"
   ]
  },
  {
   "cell_type": "markdown",
   "id": "cf614eaa-0c93-40bb-87d3-7b5f5a0a2644",
   "metadata": {},
   "source": [
    "The days or seconds in the `timedelta` object can be accessed using the `days` or `seconds` attributes, respectively."
   ]
  },
  {
   "cell_type": "code",
   "execution_count": 6,
   "id": "0ae9653c-8aa3-42c0-b369-5f5bfffc2a14",
   "metadata": {},
   "outputs": [
    {
     "data": {
      "text/plain": [
       "4"
      ]
     },
     "execution_count": 6,
     "metadata": {},
     "output_type": "execute_result"
    }
   ],
   "source": [
    "delta.days"
   ]
  },
  {
   "cell_type": "code",
   "execution_count": 7,
   "id": "af5776e5-ec2a-4bb9-8955-d40af3e012df",
   "metadata": {},
   "outputs": [
    {
     "data": {
      "text/plain": [
       "13800"
      ]
     },
     "execution_count": 7,
     "metadata": {},
     "output_type": "execute_result"
    }
   ],
   "source": [
    "delta.seconds"
   ]
  },
  {
   "cell_type": "markdown",
   "id": "ed7fa594-5ccf-4987-870d-67f65d154858",
   "metadata": {},
   "source": [
    "To condense a `timedelta` into seconds, use the `total_seconds()` method."
   ]
  },
  {
   "cell_type": "code",
   "execution_count": 8,
   "id": "55bdf75b-d2cb-428a-a1d3-0712226cff5e",
   "metadata": {},
   "outputs": [
    {
     "data": {
      "text/plain": [
       "359400.0"
      ]
     },
     "execution_count": 8,
     "metadata": {},
     "output_type": "execute_result"
    }
   ],
   "source": [
    "delta.total_seconds()"
   ]
  },
  {
   "cell_type": "markdown",
   "id": "4e4dc53c-3411-4540-9292-e8fcc4d2be81",
   "metadata": {},
   "source": [
    "## Extracting Date and Time Information\n",
    "\n",
    "The extracting of the date and time from a file or file name can be accomplished using the 'string-parsed time' `strptime()` function and formatting codes shown below. Additional codes can be found on the [Python webstie](https://docs.python.org/3/library/datetime.html#format-codes). \n",
    "\n",
    "````{margine}\n",
    "```{Tip}\n",
    "If you want to convert from a `datetime` object to string, use the 'string from time' `strftime()` function.\n",
    "```\n",
    "````\n",
    "\n",
    "**Table 2** Formatting Codes for Parsing Date and Time Strings\n",
    "| Code | Example | Description |Length |\n",
    "|------|:--------| :------------|:---------|\n",
    "| %y | 01 | Year without centurty | Two digits | \n",
    "| %Y | 2001 | Year with century | Four digits |\n",
    "| %b | Jan | Month abbreviation | Three letters | \n",
    "| %B | January | Month full name | Varies |\n",
    "| %m | 01 | Month as zero padded number | Two digits | \n",
    "| %d | 05 | Day of the month with zero padding | Two digits |\n",
    "| %H | 14 | Hour in 24 hour time with zero padding | Two digits |\n",
    "| %p | AM | AM or PM | Two letters |\n",
    "| %I | 02 | Hour in 12 hour time with zero padding  | Two digits |\n",
    "| %M | 16 | Minute with zero padding  | Two digits |\n",
    "| %S | 09 | Second with zero padding  |  Two digits |\n",
    "| %f | 090000 | Microseconds with zero padding  | Six digits |\n",
    "\n",
    "These codes will allow you to parse strings into the `datetime` module by prividing the `strptime()` function with both the string from the data file and a description of how the date and time information is formatted. For example, below is a file where the collection time is included in the file name as hour, minues, seconds separated by hyphens."
   ]
  },
  {
   "cell_type": "code",
   "execution_count": 22,
   "id": "ad127c56-57de-49c1-a395-dd87550f0bcc",
   "metadata": {},
   "outputs": [
    {
     "data": {
      "text/plain": [
       "datetime.datetime(1900, 1, 1, 12, 3, 48)"
      ]
     },
     "execution_count": 22,
     "metadata": {},
     "output_type": "execute_result"
    }
   ],
   "source": [
    "file_name_1 = 'Absorbance_12-03-48.txt' \n",
    "timestamp = datetime.datetime.strptime(file_name_1[-12:-4], '%H-%M-%S')\n",
    "timestamp"
   ]
  },
  {
   "cell_type": "markdown",
   "id": "6de7068d-9266-4e7a-b630-aa9f01801602",
   "metadata": {},
   "source": [
    "Because the date (i.e., year, month, and day) information were not provided, default values of January 1, 1900 is chosen for the `datetime` object. If you only want the date or time information, you can access them using the `date()` or `time()` functions, respectively."
   ]
  },
  {
   "cell_type": "code",
   "execution_count": 28,
   "id": "aaac757e-823e-4811-8adc-372460dd3e54",
   "metadata": {},
   "outputs": [
    {
     "data": {
      "text/plain": [
       "datetime.date(1900, 1, 1)"
      ]
     },
     "execution_count": 28,
     "metadata": {},
     "output_type": "execute_result"
    }
   ],
   "source": [
    "timestamp.date()"
   ]
  },
  {
   "cell_type": "code",
   "execution_count": 30,
   "id": "9874e1d2-7c66-4854-bd81-9916141919de",
   "metadata": {},
   "outputs": [
    {
     "data": {
      "text/plain": [
       "datetime.time(12, 3, 48)"
      ]
     },
     "execution_count": 30,
     "metadata": {},
     "output_type": "execute_result"
    }
   ],
   "source": [
    "timestamp.time()"
   ]
  },
  {
   "cell_type": "markdown",
   "id": "56157cd3-981c-4493-96e1-5038293a1358",
   "metadata": {},
   "source": [
    "If the values are not formatted like Python assumes, a little extra effort may be required. For example, below the time is formatted at hours-minutes-seconds-microseconds, but microseconds is not represented as six digits with zero padding like Python would like. To deal with this, the microseconds are sliced out of the file name and added to the `datetime` object using the `replace()` method."
   ]
  },
  {
   "cell_type": "code",
   "execution_count": 45,
   "id": "1bcc6e54-6f6f-41fa-b948-0c14292b4e32",
   "metadata": {},
   "outputs": [
    {
     "data": {
      "text/plain": [
       "datetime.datetime(1900, 1, 1, 12, 3, 48, 215)"
      ]
     },
     "execution_count": 45,
     "metadata": {},
     "output_type": "execute_result"
    }
   ],
   "source": [
    "file_name_2 = 'glucose_Absorbance_12-03-48-215.txt'\n",
    "\n",
    "time = datetime.datetime.strptime(file_name_2[-16:-8], '%H-%M-%S')\n",
    "time.replace(microsecond = int(file_name_2[-7:-4]))"
   ]
  }
 ],
 "metadata": {
  "kernelspec": {
   "display_name": "Python 3 (ipykernel)",
   "language": "python",
   "name": "python3"
  },
  "language_info": {
   "codemirror_mode": {
    "name": "ipython",
    "version": 3
   },
   "file_extension": ".py",
   "mimetype": "text/x-python",
   "name": "python",
   "nbconvert_exporter": "python",
   "pygments_lexer": "ipython3",
   "version": "3.12.7"
  }
 },
 "nbformat": 4,
 "nbformat_minor": 5
}
