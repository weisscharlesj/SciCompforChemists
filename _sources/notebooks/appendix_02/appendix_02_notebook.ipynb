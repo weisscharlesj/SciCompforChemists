{
 "cells": [
  {
   "cell_type": "markdown",
   "id": "d21427c0-bf1c-4705-b383-020b6523a36e",
   "metadata": {},
   "source": [
    "(appendix_02)=\n",
    "\n",
    "# Appendix 2: `datetime` Module\n",
    "\n",
    "It is often neccesary to know when data were collected such as when performing chemical kinetic measurements. This information may be stored in the file itself or as a timestamp at the end of the file name. Not only is it neccesary to extract this date and time information, it is often also neccesary to calculate the times since the start of the experiment or between data points. This appendix covers Python's native `datetime` module useful for working with date and time information and extracting this information from data. The three object types covered in this tutorial are listed below. The first two tell us when the data were collected while the fourth, `timedelta`, tells us the amount of time between two times or dates.\n",
    "\n",
    "**Table 1** Common `datetime` Objects\n",
    "| Object Type | Description |\n",
    ":-----------: | :---------------- |\n",
    "| `date` | Contains date informaing ingnoring time |\n",
    "| `datetime` | Contains date and time information | \n",
    "| `timedelta` | Contains change in date and time informatin |\n",
    "\n",
    "````{margin}\n",
    "```{note}\n",
    "This tutorial assumes that the data collected occured in one timezone and not across leap years. If this is not the case, see the [Python datetime documentation](https://docs.python.org/3/library/datetime.html) for dealing with these added complexities.\n",
    "```\n",
    "````\n",
    "````{margin}\n",
    "```{note}\n",
    "While there is a `time` object, it is not covered here because it is not supported by `timedelta`.\n",
    "```\n",
    "````\n",
    "\n",
    "This tutorial starts with what these objects are and how to work with them followed by how to use `datetime` to extract this information from your data files. First, we need to import the `datetime` module."
   ]
  },
  {
   "cell_type": "code",
   "execution_count": 81,
   "id": "9c56150a-a211-40e5-8733-b1b68e5ff043",
   "metadata": {},
   "outputs": [],
   "source": [
    "import datetime"
   ]
  },
  {
   "cell_type": "markdown",
   "id": "b55efe79-fb67-4ec6-8642-e671bbefd83e",
   "metadata": {},
   "source": [
    "## Date and Time Data"
   ]
  },
  {
   "cell_type": "code",
   "execution_count": 51,
   "id": "8a445146-c5d7-4ea0-b44f-02fecee0d7e0",
   "metadata": {},
   "outputs": [
    {
     "data": {
      "text/plain": [
       "datetime.datetime(2024, 10, 13, 11, 25, 12, 265510)"
      ]
     },
     "execution_count": 51,
     "metadata": {},
     "output_type": "execute_result"
    }
   ],
   "source": [
    "now = datetime.datetime.today()\n",
    "now"
   ]
  },
  {
   "cell_type": "code",
   "execution_count": 52,
   "id": "79463813-8e60-46ba-8a90-0eb784612228",
   "metadata": {},
   "outputs": [],
   "source": [
    "later = datetime.datetime(2024, 10, 31, 9, 42, 0, 0) "
   ]
  },
  {
   "cell_type": "code",
   "execution_count": 53,
   "id": "0815e92b-5ecf-43b0-b600-5d0ffb45df47",
   "metadata": {},
   "outputs": [],
   "source": [
    "today = datetime.datetime(year=2024, month=1, day=1 ,hour=14, minute=37, second=10, microsecond=9423)"
   ]
  },
  {
   "cell_type": "code",
   "execution_count": 54,
   "id": "984fdc18-c96f-4978-b6ed-0b25cd2c9204",
   "metadata": {},
   "outputs": [
    {
     "data": {
      "text/plain": [
       "datetime.timedelta(days=17, seconds=80207, microseconds=734490)"
      ]
     },
     "execution_count": 54,
     "metadata": {},
     "output_type": "execute_result"
    }
   ],
   "source": [
    "how_long = later - now\n",
    "how_long"
   ]
  },
  {
   "cell_type": "code",
   "execution_count": 55,
   "id": "af5776e5-ec2a-4bb9-8955-d40af3e012df",
   "metadata": {},
   "outputs": [
    {
     "data": {
      "text/plain": [
       "80207"
      ]
     },
     "execution_count": 55,
     "metadata": {},
     "output_type": "execute_result"
    }
   ],
   "source": [
    "how_long.seconds"
   ]
  },
  {
   "cell_type": "code",
   "execution_count": 56,
   "id": "0ae9653c-8aa3-42c0-b369-5f5bfffc2a14",
   "metadata": {},
   "outputs": [
    {
     "data": {
      "text/plain": [
       "17"
      ]
     },
     "execution_count": 56,
     "metadata": {},
     "output_type": "execute_result"
    }
   ],
   "source": [
    "how_long.days"
   ]
  },
  {
   "cell_type": "code",
   "execution_count": 57,
   "id": "55bdf75b-d2cb-428a-a1d3-0712226cff5e",
   "metadata": {},
   "outputs": [
    {
     "data": {
      "text/plain": [
       "1549007.73449"
      ]
     },
     "execution_count": 57,
     "metadata": {},
     "output_type": "execute_result"
    }
   ],
   "source": [
    "how_long.total_seconds()"
   ]
  },
  {
   "cell_type": "code",
   "execution_count": 58,
   "id": "47aa9380-c86e-43fc-87a5-dac0e28ec6bc",
   "metadata": {},
   "outputs": [
    {
     "data": {
      "text/plain": [
       "datetime.datetime(2024, 10, 13, 11, 25, 12, 293386)"
      ]
     },
     "execution_count": 58,
     "metadata": {},
     "output_type": "execute_result"
    }
   ],
   "source": [
    "datetime.datetime.now()"
   ]
  },
  {
   "cell_type": "code",
   "execution_count": null,
   "id": "97cb83b5-5067-46f3-a331-252563e7ee4b",
   "metadata": {},
   "outputs": [],
   "source": []
  },
  {
   "cell_type": "code",
   "execution_count": null,
   "id": "612ba421-4682-43f7-92cf-bf5e078a1d5a",
   "metadata": {},
   "outputs": [],
   "source": []
  },
  {
   "cell_type": "code",
   "execution_count": 59,
   "id": "88240177-c9d7-4716-a295-3a9cd47af324",
   "metadata": {},
   "outputs": [
    {
     "data": {
      "text/plain": [
       "datetime.date(2024, 10, 13)"
      ]
     },
     "execution_count": 59,
     "metadata": {},
     "output_type": "execute_result"
    }
   ],
   "source": [
    "today = datetime.date.today()\n",
    "today"
   ]
  },
  {
   "cell_type": "code",
   "execution_count": 60,
   "id": "b3f1dedd-9e66-4ab5-9605-a68dc7c7a33f",
   "metadata": {},
   "outputs": [
    {
     "data": {
      "text/plain": [
       "datetime.date(2024, 11, 21)"
      ]
     },
     "execution_count": 60,
     "metadata": {},
     "output_type": "execute_result"
    }
   ],
   "source": [
    "next_month = datetime.date(2024, 11, 21)\n",
    "next_month"
   ]
  },
  {
   "cell_type": "code",
   "execution_count": 61,
   "id": "deb86455-fbf3-4251-857b-76b20b847662",
   "metadata": {},
   "outputs": [
    {
     "data": {
      "text/plain": [
       "datetime.timedelta(days=39)"
      ]
     },
     "execution_count": 61,
     "metadata": {},
     "output_type": "execute_result"
    }
   ],
   "source": [
    "next_month - today"
   ]
  },
  {
   "cell_type": "code",
   "execution_count": null,
   "id": "8f200011-2dfa-4113-8e82-6fb6ccea6e75",
   "metadata": {},
   "outputs": [],
   "source": []
  },
  {
   "cell_type": "code",
   "execution_count": 67,
   "id": "bf8ea931-a32e-471f-9778-25de6173fee7",
   "metadata": {},
   "outputs": [
    {
     "data": {
      "text/plain": [
       "datetime.timedelta(seconds=19645, microseconds=351)"
      ]
     },
     "execution_count": 67,
     "metadata": {},
     "output_type": "execute_result"
    }
   ],
   "source": [
    "start = datetime.datetime(year=2024, month=1, day=1, hour=10, minute=3, second=45, microsecond=450)\n",
    "end = datetime.datetime(year=2024, month=1, day=1, hour=15, minute=31, second=10, microsecond=801)\n",
    "\n",
    "end - start"
   ]
  },
  {
   "cell_type": "markdown",
   "id": "4e4dc53c-3411-4540-9292-e8fcc4d2be81",
   "metadata": {},
   "source": [
    "## Extracting Date and Time Information\n",
    "\n",
    "The extracting of the date and time from a file or file name can be accomplished using the 'string-parsed time' `strptime()` function and formatting codes shown below. Additional codes can be found on the [Python webstie](https://docs.python.org/3/library/datetime.html#format-codes). \n",
    "\n",
    "````{margine}\n",
    "```{Tip}\n",
    "If you want to convert from a `datetime` object to string, use the 'string from time' `strftime()` function.\n",
    "```\n",
    "````\n",
    "\n",
    "**Table 2** Formatting Codes for Parsing Date and Time Strings\n",
    "| Code | Example | Description |Length |\n",
    "|------|:--------| :------------|:---------|\n",
    "| %y | 01 | Year without centurty | Two digits | \n",
    "| %Y | 2001 | Year with century | Four digits |\n",
    "| %b | Jan | Month abbreviation | Three letters | \n",
    "| %B | January | Month full name | Varies |\n",
    "| %m | 01 | Month as zero padded number | Two digits | \n",
    "| %d | 05 | Day of the month with zero padding | Two digits |\n",
    "| %H | 14 | Hour in 24 hour time with zero padding | Two digits |\n",
    "| %p | AM | AM or PM | Two letters |\n",
    "| %I | 02 | Hour in 12 hour time with zero padding  | Two digits |\n",
    "| %M | 16 | Minute with zero padding  | Two digits |\n",
    "| %S | 09 | Second with zero padding  |  Two digits |\n",
    "| %f | 090000 | Microseconds with zero padding  | Six digits |\n",
    "\n",
    "These codes will allow you to parse strings into the `datetime` module by prividing the `strptime()` function with both the string from the data file and a description of how the date and time information are stored. For example, below is a file where the collection time is included in the file name as hour, minues, seconds separated by hyphens."
   ]
  },
  {
   "cell_type": "code",
   "execution_count": 96,
   "id": "ad127c56-57de-49c1-a395-dd87550f0bcc",
   "metadata": {},
   "outputs": [
    {
     "data": {
      "text/plain": [
       "datetime.datetime(1900, 1, 1, 12, 3, 48)"
      ]
     },
     "execution_count": 96,
     "metadata": {},
     "output_type": "execute_result"
    }
   ],
   "source": [
    "file_name_1 = 'Absorbance_12-03-48.txt' \n",
    "datetime.datetime.strptime(file_name_1[-12:-4], '%H-%M-%S')"
   ]
  },
  {
   "cell_type": "markdown",
   "id": "6de7068d-9266-4e7a-b630-aa9f01801602",
   "metadata": {},
   "source": [
    "Because the date information was not provided, default values of January 1, 1900 is chosen for the `datetime` object. Luckily, it is an absurd value, so it is a place holder that should not cause much confusion."
   ]
  },
  {
   "cell_type": "code",
   "execution_count": 93,
   "id": "1bcc6e54-6f6f-41fa-b948-0c14292b4e32",
   "metadata": {},
   "outputs": [
    {
     "data": {
      "text/plain": [
       "datetime.datetime(1900, 1, 1, 12, 3, 48, 215000)"
      ]
     },
     "execution_count": 93,
     "metadata": {},
     "output_type": "execute_result"
    }
   ],
   "source": [
    "tstamp = 'glucose_Absorbance_12-03-48-215.txt'\n",
    "\n",
    "time = datetime.datetime.strptime(tstamp[-16:-8], '%H-%M-%S')\n",
    "time.replace(microsecond = 1000* int(tstamp[-7:-4]))"
   ]
  },
  {
   "cell_type": "code",
   "execution_count": 78,
   "id": "29b59de3-cec7-4dab-9432-9ec3cf8180e6",
   "metadata": {},
   "outputs": [
    {
     "data": {
      "text/plain": [
       "'12-03-48'"
      ]
     },
     "execution_count": 78,
     "metadata": {},
     "output_type": "execute_result"
    }
   ],
   "source": []
  },
  {
   "cell_type": "code",
   "execution_count": null,
   "id": "819e24c3-7035-4cf9-bb31-8437bf737246",
   "metadata": {},
   "outputs": [],
   "source": []
  }
 ],
 "metadata": {
  "kernelspec": {
   "display_name": "Python 3 (ipykernel)",
   "language": "python",
   "name": "python3"
  },
  "language_info": {
   "codemirror_mode": {
    "name": "ipython",
    "version": 3
   },
   "file_extension": ".py",
   "mimetype": "text/x-python",
   "name": "python",
   "nbconvert_exporter": "python",
   "pygments_lexer": "ipython3",
   "version": "3.12.7"
  }
 },
 "nbformat": 4,
 "nbformat_minor": 5
}
