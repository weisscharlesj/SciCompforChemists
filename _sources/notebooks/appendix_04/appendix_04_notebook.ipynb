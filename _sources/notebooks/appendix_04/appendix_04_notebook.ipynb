{
 "cells": [
  {
   "cell_type": "code",
   "execution_count": 1,
   "id": "20339630-5ecc-4a70-abbf-52e9ce6476a1",
   "metadata": {
    "editable": true,
    "slideshow": {
     "slide_type": ""
    },
    "tags": [
     "remove-input"
    ]
   },
   "outputs": [],
   "source": [
    "%config InlineBackend.figure_format = 'svg'"
   ]
  },
  {
   "cell_type": "markdown",
   "id": "4b8ba1d4-5362-4702-af80-cab49999ca09",
   "metadata": {},
   "source": [
    "(appendix_04)=\n",
    "\n",
    "# Appendix 4: Regular Expressions\n",
    "\n",
    "There is a saying that synthetic chemists spend 10% of their time running reactions and 90% of their time purifying compounds. A similar saying could be said that working with chemical data is 10% performing the intended calculations or analyses on the data and 90% of the time cleaning and organizing the data. While these are both hyperbole, they underline the large amount of effort required to clean materials. This chapter is dedicated to a powerful methods known as **regular expressions**, or **regex** for short, for cleaning and filtering text data, especially in situations requiring complex pattern matching. Python [string methods](1.3.3) and [indexing](1.3.2) offer basic search and filtering functionality, but they tend to only allow for identifying simple and consistent patterns. For example, if you want a file name without the file extension (e.g., *titration* instead of *titration.png*), this can be solved using indexing and the string `split()` method because file extensions always follow the last period in the full file name. Likewise, parsing data from a [PDB file](16.2.1) can be parsed with only a string search and slicing because PDB files follow very strict formatting rules based on labels and positions in rows. The reason these two examples are not terribly complex to parse is because they are consistent and were designed to be machine readable. However, not all data follow well-defined formatting rules or there could be more variation that needs to be accounted for. Regular expressions is not strictly a Python feature but rather is a syntax supported by Python using the `re` module imported below. This module is a built-in Python module, so it comes with every installation of Python."
   ]
  },
  {
   "cell_type": "code",
   "execution_count": 2,
   "id": "a789e250-fb05-4b67-84a1-d95ee30044a3",
   "metadata": {},
   "outputs": [],
   "source": [
    "import re"
   ]
  },
  {
   "cell_type": "markdown",
   "id": "699dbec2-ce7f-4988-94bb-ec2d6c3e3029",
   "metadata": {},
   "source": [
    "Below we will first cover some key functions from the `re` modules followed by generating more complex patterns, and finally ending with a couple chemical databases and literature examples."
   ]
  },
  {
   "cell_type": "markdown",
   "id": "96cb61af-a4cb-43d0-b78a-26747574eb56",
   "metadata": {},
   "source": [
    "## Regular Expression Basics\n",
    "\n",
    "### `re` Functions\n",
    "\n",
    "The `re` module provides a series of functions including those listed in **Table 1** that allow the user to search for, split on, or substitute for patterns within a string. Additional functions can be found on the [Python regular expressions page](https://docs.python.org/3/library/re.html).\n",
    "\n",
    "**Table 1** Select `re` Functions\n",
    "| Regex Function | Description |\n",
    "|---------------|:-------------------|\n",
    "|`re.findall(pattern, str)` | Returns a list of strings that match the pattern |\n",
    "|`re.finditer(pattern, str)`| Returns iterable of Match objects |\n",
    "|`re.search(pattern, str)`  | Returns the *first* pattern match as Match object |\n",
    "|`re.split(pattern, str)`   | Splits string at pattern matches |\n",
    "|`re.sub(pattern, replacement, str)`  | Replaces all occurrences with new string |\n",
    "\n",
    "The way these functions work is that the user provides a pattern to search for, which in the most basic scenarios can be a simple string, along with a string in which the function will search for the pattern. In the example below, we search a string of amine names for an aniline derivative by using `'aniline'` as a pattern."
   ]
  },
  {
   "cell_type": "code",
   "execution_count": 3,
   "id": "0dddbfc7-7ca7-4130-be79-2ad0475e7005",
   "metadata": {},
   "outputs": [
    {
     "data": {
      "text/plain": [
       "['aniline', 'aniline']"
      ]
     },
     "execution_count": 3,
     "metadata": {},
     "output_type": "execute_result"
    }
   ],
   "source": [
    "amines = '2-methylcyclohexylamine N-methylaniline 3-methylbutylamine N-methyl-3-pentanamine o-methylaniline'\n",
    "pattern = 'aniline'\n",
    "\n",
    "re.findall(pattern, amines)"
   ]
  },
  {
   "cell_type": "markdown",
   "id": "d7528aa8-06a2-4bf5-846e-ee63c70542a5",
   "metadata": {},
   "source": [
    "This is not terribly informative being that all it tells us is that `'aniline'` appears twice. The `re.finditer()` function can be used instead to return an iterator providing the user with the location of each match using either a `for` loop or `list()` function. We can see below that there are three matches along with the indices of those matches and the string that matches the pattern."
   ]
  },
  {
   "cell_type": "code",
   "execution_count": 4,
   "id": "ca8a9c3b-1588-40c9-9958-c5dd66fc4605",
   "metadata": {},
   "outputs": [
    {
     "name": "stdout",
     "output_type": "stream",
     "text": [
      "<re.Match object; span=(32, 39), match='aniline'>\n",
      "<re.Match object; span=(90, 97), match='aniline'>\n"
     ]
    }
   ],
   "source": [
    "for x in re.finditer('aniline', amines):\n",
    "    print(x)"
   ]
  },
  {
   "cell_type": "code",
   "execution_count": 5,
   "id": "6c71f79e-bf00-423f-8f97-1f769338d6eb",
   "metadata": {},
   "outputs": [
    {
     "data": {
      "text/plain": [
       "[<re.Match object; span=(32, 39), match='aniline'>,\n",
       " <re.Match object; span=(90, 97), match='aniline'>]"
      ]
     },
     "execution_count": 5,
     "metadata": {},
     "output_type": "execute_result"
    }
   ],
   "source": [
    "list(re.finditer('aniline', amines))"
   ]
  },
  {
   "cell_type": "markdown",
   "id": "f6706ce5-582d-4e83-a89b-af6a20b6bfed",
   "metadata": {},
   "source": [
    "Tp access the matched strings, use the `group()` method on the `Match` objections like below."
   ]
  },
  {
   "cell_type": "code",
   "execution_count": 6,
   "id": "7225e51d-1bec-4163-b10e-9d6456d0f6e9",
   "metadata": {},
   "outputs": [
    {
     "name": "stdout",
     "output_type": "stream",
     "text": [
      "aniline\n",
      "aniline\n"
     ]
    }
   ],
   "source": [
    "for x in re.finditer('aniline', amines):\n",
    "    print(x.group())"
   ]
  },
  {
   "cell_type": "markdown",
   "id": "3e7097e9-a95e-4c74-a5cc-d9578f7c3f3b",
   "metadata": {},
   "source": [
    "The `re` module can also be used to find and replace patterns such as replacing `'aniline'` with `'anilinium'` like below."
   ]
  },
  {
   "cell_type": "code",
   "execution_count": 7,
   "id": "22b7f30a-7135-4cb7-b569-fe66d4fe7a69",
   "metadata": {},
   "outputs": [
    {
     "data": {
      "text/plain": [
       "'2-methylcyclohexylamine N-methylanilinium 3-methylbutylamine N-methyl-3-pentanamine o-methylanilinium'"
      ]
     },
     "execution_count": 7,
     "metadata": {},
     "output_type": "execute_result"
    }
   ],
   "source": [
    "re.sub('aniline', 'anilinium', amines)"
   ]
  },
  {
   "cell_type": "markdown",
   "id": "3021d92d-26db-42ce-9157-9a0ab7d0c7be",
   "metadata": {},
   "source": [
    "We could still probably have done the above tasks with string methods and indexing. The real power of regular expressions is its ability to generate more complex and flexible patterns, which is what we address below."
   ]
  },
  {
   "cell_type": "markdown",
   "id": "c85c9e14-1786-4b39-b90f-2115a79d3087",
   "metadata": {},
   "source": [
    "### Symbols & Characters\n",
    "\n",
    "Let's try something a little more complicated by searching for any instance of a methyl *not* located on a nitrogen. This means that the name should have a `'methyl'` string with a hyphenated number before it. The `re` module provides syntax, **Table 2**, for indicating specific types of characters and delimiters. For example, `\\d` indicates a digit. Many of these character designators also have a negative version using the capital letter, so `\\D`, for example, signifies any character except a number. \n",
    "\n",
    "**Table 2** Regex Character Designators\n",
    "|Character Type | Present | Not Present | Description/Examples |\n",
    "|-------|:---------:|:-------------:|----------------------|\n",
    "|Any character | `.` | |Any character except new line (i.e., \\n) |  |\n",
    "|Digits | \\d |\\D | Digits from 0-9 |\n",
    "|Letters/Word characters|  \\w | \\W | abcABC |\n",
    "|Space |\\s | \\S | White space, tabs, and end-of-lines |\n",
    "|Boundary between words | \\b | \\B | Space, start of line, or non-alphanumeric characters|\n",
    "|Character at start of string | `^` | |  `^2` finds a 2 at the start of a string  |\n",
    "|Character at end of string | `$` |  | `^1` finds a 1 at the end of a string  |\n",
    "\n",
    "Being that we need any number before the methyl, the pattern is `\\d-methyl`. Now that we have patterns that use a backslash, you may see a SyntaxError because the backslash is also a Python escape character. To avoid this error, either precede the backslash with another backslash, `\\\\d-methyl`, or make your string a raw string by preceding it with an `r` like is done below.\n",
    "\n",
    "````{margin}\n",
    "```{tip}\n",
    "The `. * ? + ^ $ \\ | { } [ ] ( )` symbols are also part of regular expression syntax, so if you need to use them as just the symbol, either escape them by preceding it with a backslash or make the string a raw string by starting with an `r` like `r'[spiro[\\d.\\d]octane'`.\n",
    "```\n",
    "````"
   ]
  },
  {
   "cell_type": "code",
   "execution_count": 8,
   "id": "87083be2-e5e7-463e-a6a4-ae9039ebadea",
   "metadata": {},
   "outputs": [
    {
     "name": "stdout",
     "output_type": "stream",
     "text": [
      "<re.Match object; span=(0, 8), match='2-methyl'>\n",
      "<re.Match object; span=(40, 48), match='3-methyl'>\n"
     ]
    }
   ],
   "source": [
    "for x in re.finditer(r'\\d-methyl', amines):\n",
    "    print(x)"
   ]
  },
  {
   "cell_type": "markdown",
   "id": "2bf65022-69ff-4620-9a9d-882c3a32eada",
   "metadata": {},
   "source": [
    "The `\\D` could be used as a means of locating methyls that are *not* on an aliphatic carbon chain because they do not have numbers before them (at least in this example) like is done below. Now that our patterns are more broad, the listing of matches like below are more informative because we can see that both `N-methyl` and `o-methyl` fit our pattern."
   ]
  },
  {
   "cell_type": "code",
   "execution_count": 9,
   "id": "1833a813-546c-47ea-8e47-76455f4774a7",
   "metadata": {},
   "outputs": [
    {
     "name": "stdout",
     "output_type": "stream",
     "text": [
      "<re.Match object; span=(24, 32), match='N-methyl'>\n",
      "<re.Match object; span=(59, 67), match='N-methyl'>\n",
      "<re.Match object; span=(82, 90), match='o-methyl'>\n"
     ]
    }
   ],
   "source": [
    "for x in re.finditer(r'\\D-methyl', amines):\n",
    "    print(x)"
   ]
  },
  {
   "cell_type": "markdown",
   "id": "eee127c3-7969-4540-9756-41d49822c2fd",
   "metadata": {},
   "source": [
    "As another example, below is a string that lists chemical identifiers including chemical names, CAS numbers, and a PubChem CID. The first thing we might want to do is split this up into a list where each item represents a different chemical."
   ]
  },
  {
   "cell_type": "code",
   "execution_count": 10,
   "id": "9add7566-4698-4609-b07f-b71689d48245",
   "metadata": {},
   "outputs": [],
   "source": [
    "chemicals = ('2-methylphenol   methanol N,N-diethylamine pentanol 281-23-2 ' \n",
    "              'ethyl benzoate glycerol 93-89-0 5793 ethanoic acid acetic anhydride')"
   ]
  },
  {
   "cell_type": "markdown",
   "id": "3fd041e6-b85b-442c-acee-62cbb3682301",
   "metadata": {},
   "source": [
    "Using a string method to split based on spaces demonstrated below will not work well because some chemicals (ethyl benzoate, ethanoic acid, and acetic anhydride) have a space in the name. There is also a complication where there are multiple spaces after `'2-methylphenol'`. This problem will be solved below using additional tools from regular expressions."
   ]
  },
  {
   "cell_type": "code",
   "execution_count": 11,
   "id": "6d9ca316-0a74-4ec2-8b25-3bdd47fa8f54",
   "metadata": {},
   "outputs": [
    {
     "data": {
      "text/plain": [
       "['2-methylphenol',\n",
       " '',\n",
       " '',\n",
       " 'methanol',\n",
       " 'N,N-diethylamine',\n",
       " 'pentanol',\n",
       " '281-23-2',\n",
       " 'ethyl',\n",
       " 'benzoate',\n",
       " 'glycerol',\n",
       " '93-89-0',\n",
       " '5793',\n",
       " 'ethanoic',\n",
       " 'acid',\n",
       " 'acetic',\n",
       " 'anhydride']"
      ]
     },
     "execution_count": 11,
     "metadata": {},
     "output_type": "execute_result"
    }
   ],
   "source": [
    "re.split(r'\\s', chemicals)"
   ]
  },
  {
   "cell_type": "markdown",
   "id": "15470e68-4e9e-4116-9c31-3092744e35d4",
   "metadata": {},
   "source": [
    "### Quantifiers\n",
    "\n",
    "Let's first deal with the multiple spaces using quantifiers in **Table 3**. These quantifiers allow the user to specify how many of something will be in the pattern. For example, the `a+` will search for one or more a's while `'\\s{1,3}'` looks for 1-3 spaces.\n",
    "\n",
    "````{margin}\n",
    "```{tip}\n",
    "Because the `?` quantifier searches for 0 or 1 of something, it is helpful to think of this as looking for optional items. For example, `-?\\d` is a pattern for a number that could be positive or negative because a negative sign may or may not be present. \n",
    "```\n",
    "````\n",
    "\n",
    "**Table 3** Regex Quantifiers\n",
    "| Flag | Description | Example |\n",
    "|:----:|-------------|---------|\n",
    "| * | Search for 0 or more | `\\w*` for 0 or more letters |\n",
    "| ? | 0 or 1 | `\\s?` for a space that may or may not be present |\n",
    "|+ |Search for 1 or more | `\\d+` for one or more digits | \n",
    "|{} | Number of preceding character to search for | `\\d{3}` for three digits, `\\d{3, 7}` for 3-7 digit |\n",
    "\n",
    "Below, we use `\\s+` to split our string of chemicals based on one or more spaces."
   ]
  },
  {
   "cell_type": "code",
   "execution_count": 12,
   "id": "baa91bbe-60a6-4870-9d86-5321d4ac0eb5",
   "metadata": {},
   "outputs": [
    {
     "data": {
      "text/plain": [
       "['2-methylphenol',\n",
       " 'methanol',\n",
       " 'N,N-diethylamine',\n",
       " 'pentanol',\n",
       " '281-23-2',\n",
       " 'ethyl',\n",
       " 'benzoate',\n",
       " 'glycerol',\n",
       " '93-89-0',\n",
       " '5793',\n",
       " 'ethanoic',\n",
       " 'acid',\n",
       " 'acetic',\n",
       " 'anhydride']"
      ]
     },
     "execution_count": 12,
     "metadata": {},
     "output_type": "execute_result"
    }
   ],
   "source": [
    "re.split(r'\\s+', chemicals)"
   ]
  },
  {
   "cell_type": "markdown",
   "id": "780df0a5-bbbf-47a2-b60b-3f8c8f8d5695",
   "metadata": {},
   "source": [
    "### Lookahead and Lookbehind\n",
    "\n",
    "\n",
    "Now let's address the issue of spaces inside the name. IUPAC nomenclature for esters follow a pattern where the first word always ends in *-yl*, and carboxylic acids and anhydrides have *-ic* at the end of the first word (i.e., the carboxyl part). These trends can be used to identify spaces where the string should *not* be split, and we will carry this out using something known as a **lookahead** or **lookbehind** shown in **Table 4**.  These look for the presence or absence of something before or after our main pattern. We specifically want spaces that do *not* have a *yl* or *ic* preceding them. We will add these one at a time. Below`(?<!yl)` is added in front of `\\s+` to avoid splitting on `yl ` patterns.\n",
    "\n",
    "**Table 4** Lookahead and Lookbehind Syntax\n",
    "|      |Lookahead ($\\rightarrow$) | Lookbehind ($\\leftarrow$) |\n",
    "|:----:|:--------:|:----------:|\n",
    "|Present| `pattern1(?=pattern2)` | `(?<=pattern2)pattern1` |\n",
    "|Absent| `pattern1(?!pattern2)` | `(?<!pattern2)pattern1` |\n",
    "\n"
   ]
  },
  {
   "cell_type": "code",
   "execution_count": 13,
   "id": "3e2035dd-c75c-4bb8-88f1-4e98164f938b",
   "metadata": {},
   "outputs": [
    {
     "data": {
      "text/plain": [
       "['2-methylphenol',\n",
       " 'methanol',\n",
       " 'N,N-diethylamine',\n",
       " 'pentanol',\n",
       " '281-23-2',\n",
       " 'ethyl benzoate',\n",
       " 'glycerol',\n",
       " '93-89-0',\n",
       " '5793',\n",
       " 'ethanoic',\n",
       " 'acid',\n",
       " 'acetic',\n",
       " 'anhydride']"
      ]
     },
     "execution_count": 13,
     "metadata": {},
     "output_type": "execute_result"
    }
   ],
   "source": [
    "pattern = r'(?<!yl)\\s+'\n",
    "re.split(pattern, chemicals)"
   ]
  },
  {
   "cell_type": "markdown",
   "id": "66223088-a814-485d-9b74-eb34846e6919",
   "metadata": {},
   "source": [
    "A lookbehind for the *ic* can also be added like below."
   ]
  },
  {
   "cell_type": "code",
   "execution_count": 14,
   "id": "c428c29f-40a4-46d9-b6c2-bf0f34da6ac5",
   "metadata": {},
   "outputs": [
    {
     "data": {
      "text/plain": [
       "['2-methylphenol',\n",
       " 'methanol',\n",
       " 'N,N-diethylamine',\n",
       " 'pentanol',\n",
       " '281-23-2',\n",
       " 'ethyl benzoate',\n",
       " 'glycerol',\n",
       " '93-89-0',\n",
       " '5793',\n",
       " 'ethanoic acid',\n",
       " 'acetic anhydride']"
      ]
     },
     "execution_count": 14,
     "metadata": {},
     "output_type": "execute_result"
    }
   ],
   "source": [
    "pattern = r'(?<!yl)(?<!ic)\\s+'\n",
    "re.split(pattern, chemicals)"
   ]
  },
  {
   "cell_type": "markdown",
   "id": "ef22a481-19b3-4612-b7b3-870bac70c497",
   "metadata": {},
   "source": [
    "### Character Sets\n",
    "\n",
    "What happens if there are multiple symbols that need to be matched? By placing the symbols or characters to be matched in square brackets, `[]`, anything in the brackets is searched for. For example, it is not uncommon to see numbers separated by either a period *or* dash (e.g., phone numbers), so `[-.]` can be used to indicate that either symbol is a fit. Regular expressions also allows for ranges of letters and numbers such as `[a-e]` for any of the first five lowercase letters. It is a good idea to place the dash first to ensure that it does not get interpreted as a range.\n",
    "\n",
    "Below there is a string of toluene derivatives. If we want to filter for only *para*-substituted toluene derivatives, the name (at least in this example) should start with either *p-* or *4-*. Both symbols can be enclosed in the square brackets like `[4p]`. The next challenge is figuring out how to deal with the rest of the symbols. We could try `.+` to indicated any number of more symbols, but this includes white spaces and returns the rest of the string."
   ]
  },
  {
   "cell_type": "code",
   "execution_count": 15,
   "id": "eaf892c9-200a-4f62-b68a-79f9800f070e",
   "metadata": {},
   "outputs": [
    {
     "data": {
      "text/plain": [
       "['4-methyltoluene p-bromotoluene o-methoxytoluene']"
      ]
     },
     "execution_count": 15,
     "metadata": {},
     "output_type": "execute_result"
    }
   ],
   "source": [
    "toluene = '3-chlorotoluene 4-methyltoluene p-bromotoluene o-methoxytoluene' \n",
    "\n",
    "re.findall(r'[4p]-.+', toluene)"
   ]
  },
  {
   "cell_type": "markdown",
   "id": "ddd838ff-4716-4b59-b5b3-9e780674f4b6",
   "metadata": {},
   "source": [
    "To solve this, we can again use character sets to include any letter, number, or dash like below. By including the `+` behind the square brackets, this means one or more of these symbols."
   ]
  },
  {
   "cell_type": "code",
   "execution_count": 16,
   "id": "102d5d67-4136-4d41-a37c-36c2d7fcdbdf",
   "metadata": {},
   "outputs": [
    {
     "data": {
      "text/plain": [
       "['4-methyltoluene', 'p-bromotoluene']"
      ]
     },
     "execution_count": 16,
     "metadata": {},
     "output_type": "execute_result"
    }
   ],
   "source": [
    "re.findall(r'[4p][-\\d\\w]+', toluene)"
   ]
  },
  {
   "cell_type": "markdown",
   "id": "22e3eab7-3ab0-4668-9f43-cd3f55b1ddeb",
   "metadata": {},
   "source": [
    "### Groups\n",
    "\n",
    "Regular expressions in Python also support the extraction of information from specific segments in a string. In section [section 1.3.4](1.3.4), string formatting is introduced where the user can create a template string and insert different strings in various locations. Below are examples where the compound and molecular weight can be swapped out using either the `format()` method or *f*-string formatting."
   ]
  },
  {
   "cell_type": "code",
   "execution_count": 17,
   "id": "8c151134-2047-4010-814b-485d7817d07b",
   "metadata": {},
   "outputs": [
    {
     "data": {
      "text/plain": [
       "'The molar mass of ammonia is 17.03 g/mol.'"
      ]
     },
     "execution_count": 17,
     "metadata": {},
     "output_type": "execute_result"
    }
   ],
   "source": [
    "compound = 'ammonia'\n",
    "MW = 17.03\n",
    "\n",
    "'The molar mass of {} is {} g/mol.'.format(compound, MW)"
   ]
  },
  {
   "cell_type": "code",
   "execution_count": 18,
   "id": "ed1085e3-8e99-4d50-b3b8-da5b80e05eef",
   "metadata": {},
   "outputs": [
    {
     "data": {
      "text/plain": [
       "'The molar mass of urea is 60.06 g/mol.'"
      ]
     },
     "execution_count": 18,
     "metadata": {},
     "output_type": "execute_result"
    }
   ],
   "source": [
    "compound = 'urea'\n",
    "MW = 60.06\n",
    "\n",
    "f'The molar mass of {compound} is {MW} g/mol.'"
   ]
  },
  {
   "cell_type": "markdown",
   "id": "26cd2b3a-1ba8-495f-bdb9-276ac61067c5",
   "metadata": {},
   "source": [
    "Groups in regular expressions are essentially the opposite of above where information from the string is instead *extracted*. Groups are helpful for extracting data from a larger pattern. Below are a couple beginnings of NMR data listings that would appear is chemical literature. If we are interested in the carrier frequency, we simply write out the regular expression as normal but then wrap the part we want to extract in parentheses.\n",
    "\n",
    "    1H NMR (CDCl3, 400 MHz):\n",
    "    13C NMR (C6D6, 100 MHz):"
   ]
  },
  {
   "cell_type": "code",
   "execution_count": 19,
   "id": "f71a6f3e-6a8f-42af-9202-fd2b5016ded6",
   "metadata": {},
   "outputs": [],
   "source": [
    "H_NMR = '1H NMR (CDCl3, 400 MHz):'\n",
    "C_NMR = '13C NMR (C6D6, 100 MHz):'\n",
    "\n",
    "carrier = r'1\\d?[HC] NMR \\([\\d\\w]+, (\\d+) MHz\\):'"
   ]
  },
  {
   "cell_type": "code",
   "execution_count": 20,
   "id": "90122115-87b5-45dd-bda7-4f7f3664ef2e",
   "metadata": {},
   "outputs": [
    {
     "data": {
      "text/plain": [
       "['400']"
      ]
     },
     "execution_count": 20,
     "metadata": {},
     "output_type": "execute_result"
    }
   ],
   "source": [
    "re.findall(carrier, H_NMR)"
   ]
  },
  {
   "cell_type": "code",
   "execution_count": 21,
   "id": "42305a63-b035-406e-8f44-83b9c75434f0",
   "metadata": {},
   "outputs": [
    {
     "data": {
      "text/plain": [
       "['100']"
      ]
     },
     "execution_count": 21,
     "metadata": {},
     "output_type": "execute_result"
    }
   ],
   "source": [
    "re.findall(carrier, C_NMR)"
   ]
  },
  {
   "cell_type": "markdown",
   "id": "98dc2d57-922b-43cd-ae49-08169da14727",
   "metadata": {},
   "source": [
    "Multiple groupings can be extracted by wrapping multiple sections in parentheses. Below extracts both the solvent and the carrier frequency."
   ]
  },
  {
   "cell_type": "code",
   "execution_count": 22,
   "id": "9a81ed3d-f70f-4585-ab60-d8f999409343",
   "metadata": {},
   "outputs": [
    {
     "data": {
      "text/plain": [
       "[('CDCl3', '400')]"
      ]
     },
     "execution_count": 22,
     "metadata": {},
     "output_type": "execute_result"
    }
   ],
   "source": [
    "carrier = r'1\\d?[HC] NMR \\(([\\d\\w]+), (\\d+) MHz\\):'\n",
    "re.findall(carrier, H_NMR)"
   ]
  },
  {
   "cell_type": "markdown",
   "id": "18b99b96-6cc0-4ee3-b49f-358d1b86731a",
   "metadata": {},
   "source": [
    "## Finding CAS Numbers\n",
    "\n",
    "Let's now do some extra examples. When downloading data files from [PubChem](https://pubchem.ncbi.nlm.nih.gov/), the CAS number is mixed in with other names and numerical identifiers. There are two challenges here. The first is that CAS numbers vary in length. They are always three segments of numbers separated by hyphens, such as 58-08-2 or 2501-94-2, where the second segment is always two digits and the thirds is always a single digit. However the first segment varies from 2-7 digits. The second major issue is that the CAS numbers are mixed in with other chemical identifiers such as CID numbers, common names, and IUPAC names. These other identifiers can include hyphens and numbers, so indexing and string searches cannot easily filter for CAS numbers without a long series of boolean conditions. \n",
    "\n",
    "This is a relatively simple task for regular expressions. We indicate digits with the `\\d` and use curly brackets to indicate the number of digits as demonstrated below."
   ]
  },
  {
   "cell_type": "code",
   "execution_count": 23,
   "id": "57f79a5f-11dd-41c2-bc1e-c137dfaeb43b",
   "metadata": {},
   "outputs": [
    {
     "data": {
      "text/plain": [
       "['281-23-2', '93-89-0']"
      ]
     },
     "execution_count": 23,
     "metadata": {},
     "output_type": "execute_result"
    }
   ],
   "source": [
    "re.findall(r'\\d{2,7}-\\d{2}-\\d', chemicals)"
   ]
  },
  {
   "cell_type": "markdown",
   "id": "0ac9dac5-8d5c-40bd-991a-fa7332392b8a",
   "metadata": {},
   "source": [
    "As a demonstration, [PubChem](https://pubchem.ncbi.nlm.nih.gov/classification/#hid=72) allows for the free download of datasets which include a *Synonym* column. This column includes identifiers such as common and IUPAC names, CAS numbers, and PubChem CID numbers. The following code extracts the CAS numbers from one of these files. Two additional challenges arise from multiple CAS numbers being listed for a given compound or no CAS number being listed at all. When there are multiple CAS numbers, the most common one is stored, and if no CAS number is present, a `NaN` is stored in its place.\n",
    "\n",
    "````{margin}\n",
    "```{note}\n",
    "This data file is not included with the book, but you can freely download these files from the above URL.\n",
    "```\n",
    "````"
   ]
  },
  {
   "cell_type": "code",
   "execution_count": 24,
   "id": "eb5e2901-21da-4c93-8119-cd7145af95d5",
   "metadata": {},
   "outputs": [
    {
     "data": {
      "text/plain": [
       "['107-06-2',\n",
       " '120-82-1',\n",
       " '67-64-1',\n",
       " '71-43-2',\n",
       " '71-36-3',\n",
       " '111-65-9',\n",
       " '67-68-5',\n",
       " '64-17-5',\n",
       " '75-12-7',\n",
       " '67-56-1']"
      ]
     },
     "execution_count": 24,
     "metadata": {},
     "output_type": "execute_result"
    }
   ],
   "source": [
    "# get CAS number from Synonyms column\n",
    "import pandas as pd\n",
    "import numpy as np\n",
    "\n",
    "solv = pd.read_csv('data/solvents.csv')\n",
    "names = solv['Synonyms']\n",
    "\n",
    "cas_pattern = r'\\d{2,7}-\\d{2}-\\d'\n",
    "cas = []\n",
    "for row in names:\n",
    "    cas_in_row = re.findall(cas_pattern, row)\n",
    "    try:\n",
    "        # get more common CAS number\n",
    "        most_common_cas = max(set(cas_in_row), key=cas_in_row.count)\n",
    "        cas.append(most_common_cas)\n",
    "    except ValueError:\n",
    "        # append NaN if no CAS number found\n",
    "        cas.append(np.nan)\n",
    "\n",
    "cas[:10]"
   ]
  },
  {
   "cell_type": "markdown",
   "id": "5c3f9786-f4c6-4641-91bf-818c1cbc1f14",
   "metadata": {},
   "source": [
    "## Parse NMR Data\n",
    "\n",
    "When data on an NMR spectrum is reported in the literature, it follows relatively strict formatting rules, but these rules are designed to be ready by humans, not machines. To make things more complicated, there are numerous commas and spaces in the data making it difficult to use these as delimiters, so regular expressions are ideal for parsing this kind of data. Below is the $^1$H NMR data for butanamide in DMSO-$d_6$ at 22 $^\\circ$C following [American Chemical Society guidelines](https://researcher-resources.acs.org/publish/data_guidelines).\n",
    "\n",
    "> $^1$H NMR ((CD)$_3$SO, 400 MHz): $\\delta$ 7.23 (br, 1H), 6.70 (br, 1H), 2.00 (t, 2H, J = 7.3 Hz), 1.48 (tq, 2H, J = 7.3, 7.3 Hz), 0.84 (t, 3H, J = 7.3 Hz).\n",
    "\n",
    "As an example, we will extract the entries for each signal in the NMR spectrum. Each entry looks like `7.23 (br, 1H)` or `0.84 (t, 3H, J = 7.3 Hz)` where the decimal is the chemical shift and additional information on the signal is provided in the parentheses behind the chemical shift."
   ]
  },
  {
   "cell_type": "code",
   "execution_count": 25,
   "id": "a9cb10cf-e429-4ec1-aa79-01e508dcc2df",
   "metadata": {
    "editable": true,
    "slideshow": {
     "slide_type": ""
    },
    "tags": []
   },
   "outputs": [],
   "source": [
    "proton = ('1H NMR ((CD)3SO, 400 MHz): δ 7.23 (br, 1H), 6.70 (br, 1H),' \n",
    "          '2.00 (t, 2H, J = 7.3 Hz), 1.48 (tq, 2H, J = 7.3, 7.3 Hz),' \n",
    "          '0.84 (t, 3H, J = 7.3 Hz).')"
   ]
  },
  {
   "cell_type": "markdown",
   "id": "846050c4-ceae-43f5-8cd4-68c75f4a1cca",
   "metadata": {},
   "source": [
    "Each signal starts with a number to two decimal places, but there may be one or two digits before the decimal place. Even though our example always has one digit before the decimal, we want our code to be robust and versatile. The regular expression for this number is `'\\d{1,2}.\\d{2}'`."
   ]
  },
  {
   "cell_type": "code",
   "execution_count": 26,
   "id": "5901bb10-4050-4747-bee5-f39ecdc7f542",
   "metadata": {},
   "outputs": [
    {
     "data": {
      "text/plain": [
       "['7.23', '6.70', '2.00', '1.48', '0.84']"
      ]
     },
     "execution_count": 26,
     "metadata": {},
     "output_type": "execute_result"
    }
   ],
   "source": [
    "nmr_pattern = r'\\d{1,2}.\\d{2}'\n",
    "re.findall(nmr_pattern, proton)"
   ]
  },
  {
   "cell_type": "markdown",
   "id": "d0f7209c-2ee0-43e8-bf0c-3eddaf0449af",
   "metadata": {},
   "source": [
    "Next, the information about the signal is stored in parentheses separated from the chemical shift by a space. We will use `'\\s+'` just in case someone accidentally used multiple spaces. Because parentheses are a regular expression character, we need to precede it with a backslash to indicate that we actually mean just a parentheses character."
   ]
  },
  {
   "cell_type": "code",
   "execution_count": 27,
   "id": "7e634abf-1ef9-432c-9e28-c8d77aa46aeb",
   "metadata": {},
   "outputs": [
    {
     "data": {
      "text/plain": [
       "['7.23 (', '6.70 (', '2.00 (', '1.48 (', '0.84 (']"
      ]
     },
     "execution_count": 27,
     "metadata": {},
     "output_type": "execute_result"
    }
   ],
   "source": [
    "nmr_pattern = r'\\d+.\\d{2}\\s+\\('\n",
    "re.findall(nmr_pattern, proton)"
   ]
  },
  {
   "cell_type": "markdown",
   "id": "d02264c0-c2a9-4a2c-8ec4-df1a5b28f4a3",
   "metadata": {},
   "source": [
    "Inside the parentheses is the \n",
    "- Splitting pattern as one or more letters, `'\\w+'`\n",
    "- Integration as an integer with an `H`, so `'\\d+H'`\n",
    "- Coupling information as starting with `J =` followed by a number to two decimal places, so `'J\\s+=\\s+\\d+.\\d+\\s+Hz'`. "
   ]
  },
  {
   "cell_type": "code",
   "execution_count": 28,
   "id": "0a43d71d-f143-4d07-b829-1c17568d1c56",
   "metadata": {},
   "outputs": [
    {
     "data": {
      "text/plain": [
       "['2.00 (t, 2H, J = 7.3 Hz)', '0.84 (t, 3H, J = 7.3 Hz)']"
      ]
     },
     "execution_count": 28,
     "metadata": {},
     "output_type": "execute_result"
    }
   ],
   "source": [
    "nmr_pattern = r'\\d+.\\d{2}\\s+\\(\\w+,\\s+\\d+H,\\s+J\\s+=\\s+\\d+.\\d\\s+Hz\\)'\n",
    "\n",
    "re.findall(nmr_pattern, proton)"
   ]
  },
  {
   "cell_type": "markdown",
   "id": "f2c2f26f-7d25-4dcc-9e84-c216101da2e7",
   "metadata": {},
   "source": [
    "The current pattern misses the signals that do not include the coupling information or have multiple coupling constants. This is where quantifier are helpful. By placing the regular expression that pattern matches `, J = 7.3` in square brackets followed by an asterisk like below, it indicates that there could be zero or more of these.\n",
    "\n",
    "    [,\\s+J\\s?=\\s?\\d+.\\d]*\n"
   ]
  },
  {
   "cell_type": "code",
   "execution_count": 29,
   "id": "63e227a2-edeb-42ba-8181-aa79ee6d59f8",
   "metadata": {},
   "outputs": [
    {
     "data": {
      "text/plain": [
       "['2.00 (t, 2H, J = 7.3 Hz)',\n",
       " '1.48 (tq, 2H, J = 7.3, 7.3 Hz)',\n",
       " '0.84 (t, 3H, J = 7.3 Hz)']"
      ]
     },
     "execution_count": 29,
     "metadata": {},
     "output_type": "execute_result"
    }
   ],
   "source": [
    "nmr_pattern = r'\\d+.\\d{2}\\s\\(\\w+,\\s+\\d+H[,\\s+J\\s?=\\s?\\d+.\\d]*\\sHz\\)'\n",
    "\n",
    "re.findall(nmr_pattern, proton)"
   ]
  },
  {
   "cell_type": "markdown",
   "id": "087ec4f6-721f-4814-9e6a-6a81196d4412",
   "metadata": {},
   "source": [
    "Now the regular expression finds all signals that have coupling constants but is still missing the two without coupling constants. This is because the pattern still requires a `' Hz'`. Because there should be either zero or one of these, the regular expression that searches for this should also be enclosed in square brackets and followed by an `*` like below.\n",
    "\n",
    "    [\\sHz]*"
   ]
  },
  {
   "cell_type": "code",
   "execution_count": 30,
   "id": "a9e079e5-a046-452d-973d-46919896be13",
   "metadata": {},
   "outputs": [
    {
     "data": {
      "text/plain": [
       "['7.23 (br, 1H)',\n",
       " '6.70 (br, 1H)',\n",
       " '2.00 (t, 2H, J = 7.3 Hz)',\n",
       " '1.48 (tq, 2H, J = 7.3, 7.3 Hz)',\n",
       " '0.84 (t, 3H, J = 7.3 Hz)']"
      ]
     },
     "execution_count": 30,
     "metadata": {},
     "output_type": "execute_result"
    }
   ],
   "source": [
    "nmr_pattern = r'\\d+.\\d{2}\\s\\(\\w+,\\s+\\d+H[,\\s+J\\s?=\\s?\\d+.\\d]*[\\sHz]*\\)'\n",
    "\n",
    "re.findall(nmr_pattern, proton)"
   ]
  },
  {
   "cell_type": "markdown",
   "id": "6007f80c-0af8-4adc-b0fe-fae9a78529fd",
   "metadata": {},
   "source": [
    "It looks like the code finds all the signals. One more addition that would be helpful in making the code more robust is to add the possibility of a negative chemical shift. While proton chemical shift are typically positive, negative values do show up in situations such as silanes with Si-H bonds or metal hydrides. To allow for this possibility, a `-?` is placed in the front indicated that the negative may or may not be there. To test this, an extra negative resonance was added just for testing purposes."
   ]
  },
  {
   "cell_type": "code",
   "execution_count": 31,
   "id": "d448a34f-7b85-4df6-ac6a-9510ab74a9ef",
   "metadata": {},
   "outputs": [],
   "source": [
    "proton = ('1H NMR ((CD)3SO, 400 MHz): δ 7.23 (br, 1H), 6.70 (br, 1H),' \n",
    "          '2.00 (t, 2H, J = 7.3 Hz), 1.48 (tq, 2H, J = 7.3, 7.3 Hz),' \n",
    "          '0.84 (t, 3H, J = 7.3 Hz), -0.54 (s, 1H).')"
   ]
  },
  {
   "cell_type": "code",
   "execution_count": 32,
   "id": "e509f6ce-faa9-4b41-a5f0-3fced3164a56",
   "metadata": {},
   "outputs": [
    {
     "data": {
      "text/plain": [
       "['7.23 (br, 1H)',\n",
       " '6.70 (br, 1H)',\n",
       " '2.00 (t, 2H, J = 7.3 Hz)',\n",
       " '1.48 (tq, 2H, J = 7.3, 7.3 Hz)',\n",
       " '0.84 (t, 3H, J = 7.3 Hz)',\n",
       " '-0.54 (s, 1H)']"
      ]
     },
     "execution_count": 32,
     "metadata": {},
     "output_type": "execute_result"
    }
   ],
   "source": [
    "nmr_pattern = r'-?\\d+.\\d{2}\\s\\(\\w+,\\s+\\d+H[,\\s+J\\s?=\\s?\\d+.\\d]*[\\sHz]*\\)'\n",
    "re.findall(nmr_pattern, proton)"
   ]
  },
  {
   "cell_type": "markdown",
   "id": "924380f4-4fe6-476b-acc5-b9b82737ed84",
   "metadata": {},
   "source": [
    "If someone wanted to extract values from the NMR signals, additional regular expressions could be written to iterate through the list and extract the desired information."
   ]
  },
  {
   "cell_type": "markdown",
   "id": "fe361d6a-c53d-4ff9-b75b-d549acce35ff",
   "metadata": {
    "editable": true,
    "slideshow": {
     "slide_type": ""
    },
    "tags": []
   },
   "source": [
    "## Further Reading\n",
    "\n",
    "1. Documentation for `re` package. [https://docs.python.org/3/library/re.html](https://docs.python.org/3/library/re.html) (free resource)\n",
    "\n",
    "   > Python `re` module documentation. Provides a good list of flags.\n",
    "\n",
    "2. Regular Expressions HOWTO. [https://docs.python.org/3/howto/regex.html](https://docs.python.org/3/howto/regex.html) (free resource)\n",
    "\n",
    "    > An offical Python documentation page that provides an additional tutorial on regular expressions in Python.\n",
    "3. Datacamp Regular Expressions Cheat Sheet. [https://www.datacamp.com/cheat-sheet/regular-expresso](https://www.datacamp.com/cheat-sheet/regular-expresso) (free resource)\n",
    "\n",
    "   > A one-page summary of key regular expression pattern characters good for hanging above a desk.\n",
    "\n",
    "   "
   ]
  }
 ],
 "metadata": {
  "kernelspec": {
   "display_name": "scicompchem-env",
   "language": "python",
   "name": "scicompchem-env"
  },
  "language_info": {
   "codemirror_mode": {
    "name": "ipython",
    "version": 3
   },
   "file_extension": ".py",
   "mimetype": "text/x-python",
   "name": "python",
   "nbconvert_exporter": "python",
   "pygments_lexer": "ipython3",
   "version": "3.12.7"
  }
 },
 "nbformat": 4,
 "nbformat_minor": 5
}
