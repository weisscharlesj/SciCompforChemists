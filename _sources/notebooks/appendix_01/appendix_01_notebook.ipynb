{
 "cells": [
  {
   "cell_type": "code",
   "execution_count": 2,
   "id": "a25cdb10-d7e3-422c-93ec-c88bb96fbf3b",
   "metadata": {
    "editable": true,
    "slideshow": {
     "slide_type": ""
    },
    "tags": [
     "remove-cell"
    ]
   },
   "outputs": [],
   "source": [
    "%config InlineBackend.figure_format = 'svg'"
   ]
  },
  {
   "cell_type": "markdown",
   "id": "b63436b3-f8f1-4cb6-b9de-04fe287bc12b",
   "metadata": {},
   "source": [
    "(appendix_01)=\n",
    "\n",
    "# Appendix 1: Remote Requests\n",
    "\n",
    "There are a number of freely available online chemical databases that can be used to build datasets such as the Chemical Abstract Services (CAS), ChEMBL, ChemSpider, RCSB Protein Data Bank, PubChem, and PubMed among others. While some databases principally support access through a web browser such as Spectral Database for Organic Compounds (SDBS), many databases support programmatically accessing the data that enables the user to automate the downloading or searching of data from databases. \n",
    "````{margin}\n",
    "```{note}\n",
    "In the absence of an API for automated access, the user could also scrape the website using tools such as beautifulsoup4, but this is potentially a bit more involved.\n",
    "```\n",
    "````\n",
    "This requires the database to have what is know as an Application Programming Interface (API) that allows Python to communicate with the database software. The APIs often have idiosyncratic formatting rules that must be carefully followed to ensure no errors arise. It is also important to follow the database usages rules such as how much data may be downloaded, what the data may be used for, or if users are required to register to use the database. The latter is typically free for academic or nonprofit use. In this example, you will learn to access the PubChem databases and build a small dataset of organic chemicals with the chemical features to describe them. PubChem does not require any registration to use it, but there is a rate limit to accessing the data which will be addressed below.\n",
    "\n",
    "To access the database, we will use the Python [requests](https://requests.readthedocs.io/en/latest/) library which allows the user to use Python to access data from remote web servers. This package is installed by default with Anaconda or can be installed using pip. It is also prudent to keep this library updated just as you would with a web browser because it makes remote requests.\n",
    "\n",
    "PubChem requests use a URL like your web browser with the following five components:\n",
    "- prolog_URL - `https://pubchem.ncbi.nlm.nih.gov/rest/pug`\n",
    "- data_input - `compound/smiles`\n",
    "- identifier - `OC(C=1C=CN=C2C=CC(OC)=CC21)C3N4CCC(C3)C(C=C)C4`\n",
    "- operation - `property/Volume3D`\n",
    "- output - `txt`\n",
    "\n",
    "The prolong is the base URL which allows requests to find the remote database server, the data_input indicates what information will be provided to look up a chemical compound, the identifier is the chemical identifier, the operation is what information you want out, and the output is the format of the returned information. The latter will be text in our case, but you can have PubChem return other formats such as PNG or CSV if desired. The five above pieces are concatenated with `/` serparating them using the `join()` method and provided as an overall URL to the requests library. You could also concatenate the above strings using the `+` operator as long an you ensure there are `/` serarating each component.\n",
    "\n",
    "~~~python\n",
    "full_url = '/'.join([prolog_URL, data_input, identifier, operation, ouput])\n",
    "~~~\n",
    "\n",
    "Once the result is concatenated, it will look something like below.\n",
    "\n",
    "    https://pubchem.ncbi.nlm.nih.gov/rest/pug/compound/smiles/OC(C=1C=CN=C2C=CC(OC)=CC21)C3N4CCC(C3)C(C=C)C4/property/Volume3D/txt\n",
    "\n",
    "This URL is then fed into the `requests.get()` function like below which makes the actual request to the remote serve to fetch the information.\n",
    "\n",
    "~~~python\n",
    "requests.get(full_url)\n",
    "~~~\n",
    "\n",
    "Once you have the result, use the `.text` method to get the regular text, and you will need to remove the\n",
    "last two characters."
   ]
  },
  {
   "cell_type": "code",
   "execution_count": 3,
   "id": "bb207d9b-a53d-4534-850a-ff5d60a7743c",
   "metadata": {},
   "outputs": [],
   "source": [
    "import requests"
   ]
  },
  {
   "cell_type": "code",
   "execution_count": 4,
   "id": "f1500f29-4896-4f34-b3ab-ccc70e9ca8ff",
   "metadata": {},
   "outputs": [
    {
     "data": {
      "text/plain": [
       "<Response [200]>"
      ]
     },
     "execution_count": 4,
     "metadata": {},
     "output_type": "execute_result"
    }
   ],
   "source": [
    "prolog_URL = \"https://pubchem.ncbi.nlm.nih.gov/rest/pug\"\n",
    "data_input = \"compound/smiles\"\n",
    "identifier = 'OC(C=1C=CN=C2C=CC(OC)=CC21)C3N4CCC(C3)C(C=C)C4'\n",
    "operation = \"property/Volume3D\"\n",
    "output = \"txt\"\n",
    "\n",
    "full_url = '/'.join([prolog_URL, data_input, identifier, operation, output])\n",
    "\n",
    "res = requests.get(full_url)\n",
    "res"
   ]
  },
  {
   "cell_type": "markdown",
   "id": "65c1e45d-84c2-4f07-a883-6e5b48739429",
   "metadata": {},
   "source": [
    "Once you have the result, use the `.text` method to get the regular text, and you will need to remove the last two characters."
   ]
  },
  {
   "cell_type": "code",
   "execution_count": 6,
   "id": "49987877-13fc-4146-965f-1b3135c1a65a",
   "metadata": {},
   "outputs": [
    {
     "data": {
      "text/plain": [
       "'252.2\\n'"
      ]
     },
     "execution_count": 6,
     "metadata": {},
     "output_type": "execute_result"
    }
   ],
   "source": [
    "res.text"
   ]
  },
  {
   "cell_type": "code",
   "execution_count": 7,
   "id": "06edf664-b985-4a2a-b631-3c121a2c4ebe",
   "metadata": {},
   "outputs": [
    {
     "data": {
      "text/plain": [
       "'252.2'"
      ]
     },
     "execution_count": 7,
     "metadata": {},
     "output_type": "execute_result"
    }
   ],
   "source": [
    "res.text[:-1]"
   ]
  },
  {
   "cell_type": "markdown",
   "id": "c79c8d11-52ae-4e07-8db0-1f4ef7b35249",
   "metadata": {},
   "source": [
    "If you want to access a larger number of molecules through this approach, you will need to use a `for` loop with a list of molecular identifiers that can be swapped out in each request. It is important to note that PubChem limits requests to **no more than 5 per second**, so you will need to limit your request rate. This is relatively easy to accomplished using the `time.sleep(n)` function from the native Python *time* module where `n` is the number of seconds to pause your code. For example, every time `time.sleep(1)` is run, the function waits 1 second before the next line of code is executed. By placing this in our `for` loop, it ensures a maximum rate of requests will not be exceeded.\n",
    "\n",
    "As an example, below we request the volume of four alcohols from PubChem and store them in a list."
   ]
  },
  {
   "cell_type": "code",
   "execution_count": 8,
   "id": "db35bb6c-6b7f-455f-a683-39eb1ea01f7a",
   "metadata": {
    "scrolled": true
   },
   "outputs": [
    {
     "data": {
      "text/plain": [
       "['54.3', '84.6', '66.7', '134.3']"
      ]
     },
     "execution_count": 8,
     "metadata": {},
     "output_type": "execute_result"
    }
   ],
   "source": [
    "import time\n",
    "\n",
    "ROH_smiles = ['CC(O)C', 'C1CCCCC1O', 'CC(C)(C)O', 'O[C@H]1[C@H](C(C)C)CC[C@@H](C)C1']\n",
    "\n",
    "volumes = []\n",
    "for ROH in ROH_smiles:\n",
    "    full_url = '/'.join([prolog_URL, data_input, ROH, operation, output])\n",
    "    res = requests.get(full_url)\n",
    "    volumes.append(res.text[:-1])\n",
    "    time.sleep(1) # pauses for 1 second\n",
    "\n",
    "volumes"
   ]
  }
 ],
 "metadata": {
  "kernelspec": {
   "display_name": "scicompchem-env",
   "language": "python",
   "name": "scicompchem-env"
  },
  "language_info": {
   "codemirror_mode": {
    "name": "ipython",
    "version": 3
   },
   "file_extension": ".py",
   "mimetype": "text/x-python",
   "name": "python",
   "nbconvert_exporter": "python",
   "pygments_lexer": "ipython3",
   "version": "3.12.7"
  }
 },
 "nbformat": 4,
 "nbformat_minor": 5
}
