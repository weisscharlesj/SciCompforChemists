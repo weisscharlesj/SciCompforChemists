{
 "cells": [
  {
   "cell_type": "code",
   "execution_count": 33,
   "id": "537b15ab-6a37-42fc-aa66-68f5e626aba3",
   "metadata": {},
   "outputs": [],
   "source": [
    "import numpy as np"
   ]
  },
  {
   "cell_type": "code",
   "execution_count": 34,
   "id": "8899e9f1-426c-4aee-88f0-c88f7d4fff8c",
   "metadata": {},
   "outputs": [],
   "source": [
    "array_2D = np.array([[0. , 0.5, 1. , 1.5, 2. ],\n",
    "                     [2.5, 3. , 3.5, 4. , 4.5],\n",
    "                     [5. , 5.5, 6. , 6.5, 7. ],\n",
    "                     [7.5, 8. , 8.5, 9. , 9.5]])"
   ]
  },
  {
   "cell_type": "markdown",
   "id": "54356ed0-ef7e-42a3-9756-fad9e47346e3",
   "metadata": {
    "jp-MarkdownHeadingCollapsed": true
   },
   "source": [
    "(4.3.3)=\n",
    "## 4.3.3 Advanced Indexing\n",
    "\n",
    "```{index} fancy indexing\n",
    "```\n",
    "\n",
    "In the event you have a multidimensional array, you can access elements in the array using multiple collections of values (i.e., ndarrays, lists, or tuples) where each collection indicates the location along a different dimension. This is an instance of *fancy indexing*. For example, if we want to select the following bolded, orange elements from `array_2D`, we can create two lists - the first list contains the row indicies for each element and the second list likewise contains the column indicies.\n",
    "\n",
    "$$ \\left[ \\begin{array}{cCc} 0. & 0.5 & 1. & \\color{BurntOrange}\\textbf{1.5} & 2. \\\\ \n",
    "                             2.5 & 3. & 3.5 & 4. & 4.5 \\\\ \n",
    "                             \\color{BurntOrange}\\textbf{5.} & \\color{BurntOrange}\\textbf{5.5} & 6. & 6.5 & 7. \\\\\n",
    "                             7.5 & 8. & 8.5 & 9. & 9.5 \\end{array} \\right] $$"
   ]
  },
  {
   "cell_type": "code",
   "execution_count": 35,
   "id": "cac3a043-7f54-437a-935c-fd895b76e4d8",
   "metadata": {},
   "outputs": [],
   "source": [
    "row = [2,2,0]\n",
    "col = [0,1,3]"
   ]
  },
  {
   "cell_type": "code",
   "execution_count": 36,
   "id": "47afe94f-d593-4a9e-93a3-f0e9d55834e3",
   "metadata": {},
   "outputs": [
    {
     "data": {
      "text/plain": [
       "array([5. , 5.5, 1.5])"
      ]
     },
     "execution_count": 36,
     "metadata": {},
     "output_type": "execute_result"
    }
   ],
   "source": [
    "array_2D[row, col]"
   ]
  },
  {
   "cell_type": "markdown",
   "id": "14fd8d8d-768f-4c66-a0c9-9c38306b6394",
   "metadata": {},
   "source": [
    "Another feature of indexing ndarrays is that the returned array will have the same dimensions as the array containing the indicies. In the following example, we have two index arrays where `i_flat` is a 1 $\\times$ 4 array while `i_square` is a 2 $\\times$ 2 array resulting in 1 $\\times$ 4 and 2 $\\times$ 2 arrays, respectively"
   ]
  },
  {
   "cell_type": "code",
   "execution_count": 49,
   "id": "b385ad3d-02cf-4680-89ff-0a103e465b37",
   "metadata": {},
   "outputs": [],
   "source": [
    "threes = np.arange(3, 30, 3)\n",
    "\n",
    "i_flat = np.array([0, 3,1, 5])\n",
    "i_square = np.array([[0, 3],\n",
    "                     [1, 5]])"
   ]
  },
  {
   "cell_type": "code",
   "execution_count": 51,
   "id": "224725f5-2045-41ba-bf26-65c5223d058e",
   "metadata": {},
   "outputs": [
    {
     "data": {
      "text/plain": [
       "array([ 3, 12,  6, 18])"
      ]
     },
     "execution_count": 51,
     "metadata": {},
     "output_type": "execute_result"
    }
   ],
   "source": [
    "threes[i_flat]"
   ]
  },
  {
   "cell_type": "code",
   "execution_count": 52,
   "id": "c51659b0-681b-48a9-a08b-14c908f99981",
   "metadata": {},
   "outputs": [
    {
     "data": {
      "text/plain": [
       "array([[ 3, 12],\n",
       "       [ 6, 18]])"
      ]
     },
     "execution_count": 52,
     "metadata": {},
     "output_type": "execute_result"
    }
   ],
   "source": [
    "threes[i_square]"
   ]
  },
  {
   "cell_type": "markdown",
   "id": "b81d14b5-5c71-4676-90c9-bf138e5f4e11",
   "metadata": {},
   "source": [
    "The latter result can also be accomplished by indexing using a flat (i.e., one-dimensional) array following by reshaping it to the desired dimensions as demonstred below."
   ]
  },
  {
   "cell_type": "code",
   "execution_count": 38,
   "id": "d14e07e0-9db9-44f8-9460-8e4948b4952e",
   "metadata": {},
   "outputs": [
    {
     "data": {
      "text/plain": [
       "array([[ 3, 12],\n",
       "       [ 6, 18]])"
      ]
     },
     "execution_count": 38,
     "metadata": {},
     "output_type": "execute_result"
    }
   ],
   "source": [
    "i = np.array([0, 3,1, 5])\n",
    "\n",
    "threes[i].reshape((2,2))"
   ]
  },
  {
   "cell_type": "markdown",
   "id": "a285c394-6610-436d-9c52-1fbecf346bfb",
   "metadata": {},
   "source": [
    "(4.3.4)=\n",
    "## 4.3.4 Masking\n",
    "\n",
    "```{index} masking\n",
    "```\n",
    "\n",
    "Elements in a NumPy array can also be selected using a boolean array through a process known as *masking*. The masking array is a boolean array filled with either `1` and `0` or `True` and `False` and has the same dimensions as the origional array. Any element in the origional array that has a `1` or `True`  in the corresponding masking array is returned. \n",
    "\n",
    "For example,"
   ]
  },
  {
   "cell_type": "code",
   "execution_count": 39,
   "id": "1d8eb148-98e5-4a46-afea-47a58db9d694",
   "metadata": {},
   "outputs": [],
   "source": [
    "orig_array = np.array([[5, 7, 1],\n",
    "                       [3, 4, 2],\n",
    "                       [0, 9, 8]])\n",
    "\n",
    "mask = np.array([[0, 1, 0],\n",
    "                 [1, 1, 1],\n",
    "                 [1, 0, 1]], dtype=bool)"
   ]
  },
  {
   "cell_type": "code",
   "execution_count": 40,
   "id": "85db9c6e-9ee7-44e9-93e8-90ced8b88df0",
   "metadata": {},
   "outputs": [
    {
     "data": {
      "text/plain": [
       "array([7, 3, 4, 2, 0, 8])"
      ]
     },
     "execution_count": 40,
     "metadata": {},
     "output_type": "execute_result"
    }
   ],
   "source": [
    "orig_array[mask]"
   ]
  },
  {
   "cell_type": "markdown",
   "id": "09941b68-d9c5-4b5d-a2e9-5715608444df",
   "metadata": {},
   "source": [
    "It's important to note that if you use `1` and `0` in the masking array, it is critical that you include `dtype=bool` or else NumPy will treat the `1` and `0` as indicies instead of booleans and attempt indexing."
   ]
  },
  {
   "cell_type": "code",
   "execution_count": 41,
   "id": "bea3898a-8b05-42e0-85bd-b56aed1106c2",
   "metadata": {
    "jupyter": {
     "source_hidden": true
    }
   },
   "outputs": [
    {
     "data": {
      "text/plain": [
       "array([[[5, 7, 1],\n",
       "        [3, 4, 2],\n",
       "        [5, 7, 1]],\n",
       "\n",
       "       [[3, 4, 2],\n",
       "        [3, 4, 2],\n",
       "        [3, 4, 2]],\n",
       "\n",
       "       [[3, 4, 2],\n",
       "        [5, 7, 1],\n",
       "        [3, 4, 2]]])"
      ]
     },
     "execution_count": 41,
     "metadata": {},
     "output_type": "execute_result"
    }
   ],
   "source": [
    "mask = np.array([[0, 1, 0],\n",
    "                 [1, 1, 1],\n",
    "                 [1, 0, 1]])\n",
    "\n",
    "orig_array[mask]"
   ]
  },
  {
   "cell_type": "markdown",
   "id": "4e8d7077-9261-4e48-85c8-6d336bfae53c",
   "metadata": {},
   "source": [
    "The true power of masking is when the masking array is generated through boolean logic. This enables the user to select elements of an array through conditions as demonstrated below where we select all elements of the `org_array` that are greater than 5."
   ]
  },
  {
   "cell_type": "code",
   "execution_count": 42,
   "id": "49e026ff-0457-4f0f-a02c-7e4a989e8d22",
   "metadata": {},
   "outputs": [
    {
     "data": {
      "text/plain": [
       "array([[False,  True, False],\n",
       "       [False, False, False],\n",
       "       [False,  True,  True]])"
      ]
     },
     "execution_count": 42,
     "metadata": {},
     "output_type": "execute_result"
    }
   ],
   "source": [
    "cond = orig_array > 5\n",
    "cond"
   ]
  },
  {
   "cell_type": "code",
   "execution_count": 43,
   "id": "35d985a1-0761-48aa-9baa-13b71ea08646",
   "metadata": {},
   "outputs": [
    {
     "data": {
      "text/plain": [
       "array([7, 9, 8])"
      ]
     },
     "execution_count": 43,
     "metadata": {},
     "output_type": "execute_result"
    }
   ],
   "source": [
    "orig_array[cond]"
   ]
  },
  {
   "cell_type": "markdown",
   "id": "582914ca-2c2a-49c4-9c7f-fb2c79b86680",
   "metadata": {},
   "source": [
    "We can also include the condition directly in the square brackets to save a step as shown below."
   ]
  },
  {
   "cell_type": "code",
   "execution_count": 44,
   "id": "72449510-26c5-414c-a9a3-d60e10f13e7c",
   "metadata": {},
   "outputs": [
    {
     "data": {
      "text/plain": [
       "array([7, 9, 8])"
      ]
     },
     "execution_count": 44,
     "metadata": {},
     "output_type": "execute_result"
    }
   ],
   "source": [
    "orig_array[orig_array > 5]"
   ]
  }
 ],
 "metadata": {
  "kernelspec": {
   "display_name": "Python 3 (ipykernel)",
   "language": "python",
   "name": "python3"
  },
  "language_info": {
   "codemirror_mode": {
    "name": "ipython",
    "version": 3
   },
   "file_extension": ".py",
   "mimetype": "text/x-python",
   "name": "python",
   "nbconvert_exporter": "python",
   "pygments_lexer": "ipython3",
   "version": "3.10.8"
  }
 },
 "nbformat": 4,
 "nbformat_minor": 5
}
