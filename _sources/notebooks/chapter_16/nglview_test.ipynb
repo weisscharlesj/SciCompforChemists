{
 "cells": [
  {
   "cell_type": "code",
   "execution_count": 37,
   "id": "b8e4b66e-4a4b-4c86-8948-3e77cdf2d86a",
   "metadata": {},
   "outputs": [],
   "source": [
    "import nglview as nv\n",
    "\n",
    "import Bio\n",
    "from Bio import PDB, SeqIO, SeqUtils, Align\n",
    "parser = PDB.PDBParser()\n",
    "\n",
    "import warnings\n",
    "from Bio import BiopythonWarning\n",
    "warnings.simplefilter('ignore', BiopythonWarning)"
   ]
  },
  {
   "cell_type": "code",
   "execution_count": 53,
   "id": "c8948493-ac40-479e-9d06-f08120171f9a",
   "metadata": {},
   "outputs": [
    {
     "data": {
      "application/vnd.jupyter.widget-view+json": {
       "model_id": "5cc2a5a246814301ab88afd85ce88280",
       "version_major": 2,
       "version_minor": 0
      },
      "text/plain": [
       "NGLWidget()"
      ]
     },
     "metadata": {},
     "output_type": "display_data"
    }
   ],
   "source": [
    "prot = nv.show_file('data/3hpb.pdb')\n",
    "prot"
   ]
  },
  {
   "cell_type": "code",
   "execution_count": 54,
   "id": "767f3e13-5038-4643-844e-af06aa68e807",
   "metadata": {},
   "outputs": [
    {
     "data": {
      "application/vnd.jupyter.widget-view+json": {
       "model_id": "0bdc3737b4c943b2ab5e540c80565a48",
       "version_major": 2,
       "version_minor": 0
      },
      "text/plain": [
       "NGLWidget()"
      ]
     },
     "metadata": {},
     "output_type": "display_data"
    }
   ],
   "source": [
    "prot = nv.show_pdbid('3hpb')\n",
    "prot"
   ]
  },
  {
   "cell_type": "code",
   "execution_count": 55,
   "id": "46870676-f804-42d0-b29b-c98aaea45f4b",
   "metadata": {},
   "outputs": [
    {
     "data": {
      "application/vnd.jupyter.widget-view+json": {
       "model_id": "cb0881d95f9f4977b8ee82163bb75f7f",
       "version_major": 2,
       "version_minor": 0
      },
      "text/plain": [
       "NGLWidget()"
      ]
     },
     "metadata": {},
     "output_type": "display_data"
    }
   ],
   "source": [
    "structure = parser.get_structure('7aiz', 'data/7aiz.pdb')\n",
    "prot_struct = nv.show_biopython(structure)\n",
    "prot_struct"
   ]
  },
  {
   "cell_type": "code",
   "execution_count": 56,
   "id": "fde9a45f-eb6c-4276-ad19-a81d40b644fb",
   "metadata": {},
   "outputs": [],
   "source": [
    "from rdkit import Chem\n",
    "from rdkit.Chem import AllChem"
   ]
  },
  {
   "cell_type": "code",
   "execution_count": 57,
   "id": "11673af1-d603-427e-96e3-ae2b527d54b0",
   "metadata": {},
   "outputs": [
    {
     "data": {
      "application/vnd.jupyter.widget-view+json": {
       "model_id": "4e4f7d26cbae4ad8ae2e66b6a1b2c57b",
       "version_major": 2,
       "version_minor": 0
      },
      "text/plain": [
       "NGLWidget()"
      ]
     },
     "metadata": {},
     "output_type": "display_data"
    }
   ],
   "source": [
    "mol = Chem.MolFromSmiles('O[C@H]1[C@H](O)[C@@H](COP(O)(O)=O)OC(O)[C@@H]1O')\n",
    "mol = Chem.AddHs(mol) # add H's\n",
    "AllChem.EmbedMolecule(mol) # generate 3D structure\n",
    "\n",
    "G6P = nv.show_rdkit(mol)\n",
    "G6P"
   ]
  },
  {
   "cell_type": "code",
   "execution_count": 58,
   "id": "8a637f53-e7c8-4466-8896-05c5de4245fa",
   "metadata": {},
   "outputs": [
    {
     "data": {
      "application/vnd.jupyter.widget-view+json": {
       "model_id": "e8e5956de3884454b9526d04af58b9e0",
       "version_major": 2,
       "version_minor": 0
      },
      "text/plain": [
       "NGLWidget()"
      ]
     },
     "metadata": {},
     "output_type": "display_data"
    }
   ],
   "source": [
    "prot_3hpb = nv.show_file('data/3hpb.pdb')\n",
    "prot_3hpb.clear_representations()\n",
    "prot_3hpb.add_representation('ball+stick', selection='protein')\n",
    "prot_3hpb"
   ]
  },
  {
   "cell_type": "code",
   "execution_count": 59,
   "id": "218fc349-5269-4030-a7ce-820be65757d2",
   "metadata": {},
   "outputs": [
    {
     "data": {
      "application/vnd.jupyter.widget-view+json": {
       "model_id": "9e8e849ee416471497d66e0c58ae6440",
       "version_major": 2,
       "version_minor": 0
      },
      "text/plain": [
       "NGLWidget()"
      ]
     },
     "metadata": {},
     "output_type": "display_data"
    }
   ],
   "source": [
    "prot_3hpb = nv.show_file('data/3hpb.pdb')\n",
    "prot_3hpb.clear_representations()\n",
    "prot_3hpb.add_representation('licorice', selection='protein')\n",
    "prot_3hpb"
   ]
  },
  {
   "cell_type": "code",
   "execution_count": 60,
   "id": "abe250e5-66c8-40f5-9757-df8a05d5c349",
   "metadata": {},
   "outputs": [
    {
     "data": {
      "application/vnd.jupyter.widget-view+json": {
       "model_id": "17487e360af84934bc192afba275051b",
       "version_major": 2,
       "version_minor": 0
      },
      "text/plain": [
       "NGLWidget()"
      ]
     },
     "metadata": {},
     "output_type": "display_data"
    }
   ],
   "source": [
    "prot_1rpy = nv.show_file('data/3hpb.pdb')\n",
    "prot_1rpy.add_representation('licorice', selection='sidechains')\n",
    "prot_1rpy"
   ]
  },
  {
   "cell_type": "code",
   "execution_count": 61,
   "id": "ed592041-a575-4675-96d8-c6a6f16c9855",
   "metadata": {},
   "outputs": [
    {
     "data": {
      "application/vnd.jupyter.widget-view+json": {
       "model_id": "e68d68d5c5c34396a210799ea7ea4993",
       "version_major": 2,
       "version_minor": 0
      },
      "text/plain": [
       "NGLWidget()"
      ]
     },
     "metadata": {},
     "output_type": "display_data"
    }
   ],
   "source": [
    "prot_1rpy = nv.show_file('data/3hpb.pdb')\n",
    "prot_1rpy.clear_representations()\n",
    "prot_1rpy.add_representation('cartoon', color='hydrophobicity')\n",
    "prot_1rpy"
   ]
  },
  {
   "cell_type": "code",
   "execution_count": 62,
   "id": "c612adff-0f39-40ca-b351-93d6ab2aaab0",
   "metadata": {},
   "outputs": [
    {
     "data": {
      "application/vnd.jupyter.widget-view+json": {
       "model_id": "bd14b1993bb3496b863bbadb33b4f13b",
       "version_major": 2,
       "version_minor": 0
      },
      "text/plain": [
       "NGLWidget()"
      ]
     },
     "metadata": {},
     "output_type": "display_data"
    }
   ],
   "source": [
    "prot_1rpy = nv.show_file('data/3hpb.pdb')\n",
    "prot_1rpy.add_representation('licorice', color='hydrophobicity')\n",
    "prot_1rpy"
   ]
  },
  {
   "cell_type": "code",
   "execution_count": 63,
   "id": "4d44707c-6b20-4846-ac92-cd89ada003c2",
   "metadata": {},
   "outputs": [
    {
     "data": {
      "application/vnd.jupyter.widget-view+json": {
       "model_id": "908fe736602842df8f155a379e408e4e",
       "version_major": 2,
       "version_minor": 0
      },
      "text/plain": [
       "NGLWidget()"
      ]
     },
     "metadata": {},
     "output_type": "display_data"
    }
   ],
   "source": [
    "prot_1rpy = nv.show_file('data/3hpb.pdb')\n",
    "prot_1rpy.clear_representations()\n",
    "prot_1rpy.add_representation('cartoon', color='sstruc')\n",
    "prot_1rpy"
   ]
  },
  {
   "cell_type": "code",
   "execution_count": 64,
   "id": "aebfa429-2af8-4e6c-9f53-f45ad68aa868",
   "metadata": {},
   "outputs": [
    {
     "data": {
      "application/vnd.jupyter.widget-view+json": {
       "model_id": "a76c85b5c3ac4242b607ffb51b84399c",
       "version_major": 2,
       "version_minor": 0
      },
      "text/plain": [
       "NGLWidget()"
      ]
     },
     "metadata": {},
     "output_type": "display_data"
    }
   ],
   "source": [
    "prot_1rpy = nv.show_file('data/3hpb.pdb')\n",
    "prot_1rpy.add_representation('licorice', color='resname')\n",
    "prot_1rpy"
   ]
  },
  {
   "cell_type": "code",
   "execution_count": 65,
   "id": "85eb42e3-2330-485b-95f0-6a56e0f7872c",
   "metadata": {},
   "outputs": [
    {
     "data": {
      "application/vnd.jupyter.widget-view+json": {
       "model_id": "6c525a439d33457d9a1e6c930ffe9cd8",
       "version_major": 2,
       "version_minor": 0
      },
      "text/plain": [
       "NGLWidget()"
      ]
     },
     "metadata": {},
     "output_type": "display_data"
    }
   ],
   "source": [
    "full_surface = nv.show_biopython(structure)\n",
    "full_surface.add_surface(opacity=0.3)\n",
    "full_surface"
   ]
  },
  {
   "cell_type": "code",
   "execution_count": 66,
   "id": "ee79d15a-d34c-4521-acf8-ef178fbefc1b",
   "metadata": {},
   "outputs": [
    {
     "data": {
      "application/vnd.jupyter.widget-view+json": {
       "model_id": "ab29347f9662433db16e1b16c80b457e",
       "version_major": 2,
       "version_minor": 0
      },
      "text/plain": [
       "NGLWidget()"
      ]
     },
     "metadata": {},
     "output_type": "display_data"
    }
   ],
   "source": [
    "acidic = nv.show_file('data/8pfy.cif')\n",
    "acidic.clear_representations()\n",
    "acidic.add_representation('licorice')\n",
    "acidic.add_surface(selection='acidic',\n",
    "                   opacity=0.4, \n",
    "                   color='pink')\n",
    "acidic"
   ]
  },
  {
   "cell_type": "code",
   "execution_count": 68,
   "id": "a6c5fde4-0bc5-4b28-8ff5-cb0e45c4dc2c",
   "metadata": {},
   "outputs": [
    {
     "data": {
      "application/vnd.jupyter.widget-view+json": {
       "model_id": "590364b4d4d447f5af360af48ba4a795",
       "version_major": 2,
       "version_minor": 0
      },
      "text/plain": [
       "NGLWidget()"
      ]
     },
     "metadata": {},
     "output_type": "display_data"
    }
   ],
   "source": [
    "acidbase = nv.show_biopython(structure)\n",
    "acidbase.clear_representations()\n",
    "acidbase.add_representation('licorice')\n",
    "acidbase.add_surface(selection=':B and backbone and (basic or acidic)',\n",
    "                   opacity=0.3, \n",
    "                   color='lightblue')\n",
    "acidbase"
   ]
  },
  {
   "cell_type": "code",
   "execution_count": null,
   "id": "229ed539-3d84-4212-9d4e-767bbe0a36fc",
   "metadata": {},
   "outputs": [],
   "source": []
  },
  {
   "cell_type": "code",
   "execution_count": null,
   "id": "8b5c0cc9-d99d-4582-8110-cbf00e4732b3",
   "metadata": {},
   "outputs": [],
   "source": []
  }
 ],
 "metadata": {
  "kernelspec": {
   "display_name": "scicompchem-env",
   "language": "python",
   "name": "scicompchem-env"
  },
  "language_info": {
   "codemirror_mode": {
    "name": "ipython",
    "version": 3
   },
   "file_extension": ".py",
   "mimetype": "text/x-python",
   "name": "python",
   "nbconvert_exporter": "python",
   "pygments_lexer": "ipython3",
   "version": "3.12.7"
  }
 },
 "nbformat": 4,
 "nbformat_minor": 5
}
