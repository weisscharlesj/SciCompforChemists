{
 "cells": [
  {
   "cell_type": "code",
   "execution_count": 1,
   "id": "eea59bbc-da8f-4513-9ec5-7c6fbcf828e0",
   "metadata": {},
   "outputs": [
    {
     "data": {
      "application/vnd.jupyter.widget-view+json": {
       "model_id": "9cd3022ba7b440239425bca83e3484e4",
       "version_major": 2,
       "version_minor": 0
      },
      "text/plain": []
     },
     "metadata": {},
     "output_type": "display_data"
    }
   ],
   "source": [
    "import nglview as nv"
   ]
  },
  {
   "cell_type": "code",
   "execution_count": 2,
   "id": "99809986-1e91-47d1-867f-0311f6223851",
   "metadata": {},
   "outputs": [],
   "source": [
    "import Bio\n",
    "from Bio import PDB, SeqIO, SeqUtils, Align"
   ]
  },
  {
   "cell_type": "code",
   "execution_count": 15,
   "id": "731aa2fd-271d-4baf-b582-690689b0d55a",
   "metadata": {},
   "outputs": [
    {
     "data": {
      "application/vnd.jupyter.widget-view+json": {
       "model_id": "fe4f75a6d9e04c32be33f15f9d3cd4d0",
       "version_major": 2,
       "version_minor": 0
      },
      "text/plain": [
       "NGLWidget(gui_style='ngl')"
      ]
     },
     "metadata": {},
     "output_type": "display_data"
    }
   ],
   "source": [
    "prot = nv.show_pdbid('1rpy')\n",
    "prot.clear_representations()\n",
    "prot.add_representation('cartoon')\n",
    "prot.add_representation('licorice', selection='ring')\n",
    "\n",
    "prot.gui_style = 'ngl'\n",
    "prot"
   ]
  },
  {
   "cell_type": "code",
   "execution_count": null,
   "id": "24981c63-162e-4d56-9abc-0acfc137457c",
   "metadata": {},
   "outputs": [],
   "source": []
  }
 ],
 "metadata": {
  "kernelspec": {
   "display_name": "Python 3 (ipykernel)",
   "language": "python",
   "name": "python3"
  },
  "language_info": {
   "codemirror_mode": {
    "name": "ipython",
    "version": 3
   },
   "file_extension": ".py",
   "mimetype": "text/x-python",
   "name": "python",
   "nbconvert_exporter": "python",
   "pygments_lexer": "ipython3",
   "version": "3.11.4"
  }
 },
 "nbformat": 4,
 "nbformat_minor": 5
}
