{
 "cells": [
  {
   "cell_type": "markdown",
   "id": "1eea1d0b-9600-4cec-934f-1569d321e4bb",
   "metadata": {},
   "source": [
    "(0)=\n",
    "# Chapter 0: Python & Jupyter Notebooks"
   ]
  },
  {
   "cell_type": "markdown",
   "id": "6ec746fe-e23f-475a-9d65-e02a07050cf0",
   "metadata": {},
   "source": [
    "(0.1)=\n",
    "## 0.1 Python"
   ]
  },
  {
   "cell_type": "markdown",
   "id": "e2d4847a-c522-4685-8354-ba2a9e54a516",
   "metadata": {},
   "source": [
    "Python is a popular programming language available on all major computer platforms including Mac, Linux, and Windows.  It is a scripting language which means that the moment the user presses the Return key or Run, the Python software interprets and runs the code. This is in contrast to a compiled language like C where the code must first be translated into binary (i.e., machine language) before it can be run. On-the-fly interpretation makes Python quick to use and often provides the user with rapid results. This is ideal for scientific data analysis where the user is routinely making changes to the processing and visualization of the data.\n",
    "\n",
    "Python is free, open source software and is maintained by the non-profit [Python Software Foundation](https://www.python.org/psf/). This is appealing for two major reasons. The first is that it is widely, freely, and irrevocably available to anyone who wants to use it regardless of budget. With proprietary software, which is more and more commonly offered under a subscription model, if a company stops offering or updating a software package, it may simply become unavailable leaving users without the software they built their work around. Second, it is open source, so anyone can inspect and modify the code. This allows anyone to review the code to ensure it does what it claims instead of relying on the assertions of the software distributer.\n",
    "\n",
    "Another reason to use Python over other options, free or otherwise, is the power and the community support available to Python users. Python is a common and popular programming language that has been applied to a wide variety of applications including data analysis, visualization, machine learning, robotics, web scraping, 3D graphics, and more. As a result, there is a large community built around Python that provides valuable support for those who need assistance. If you are stuck on a problem or have a question, a quick internet search will likely provide the answer. Common internet forums include stackexchange.com or stackoverflow.com among others. If you have a question or need help on something, you are probably not the first person to ask that question.\n",
    "\n",
    "Along with Python, this book uses the IPython environment and Jupyter notebooks as a medium for running and sharing Python code. More details are give below on Jupyter notebooks, but for now, know that they provide interactive environments ideal for scientific computing. In addition, we will use a variety of free, open source libraries to provide collections of useful functions for scientific data processing, analysis, and visualization. Think of a library as an add-on or tool pack for Python, and there are many to choose from."
   ]
  },
  {
   "cell_type": "markdown",
   "id": "5e4473bb-f78e-43e5-9f84-57625c9c887a",
   "metadata": {},
   "source": [
    "(0.2)=\n",
    "## 0.2 Installing Software"
   ]
  },
  {
   "cell_type": "markdown",
   "id": "5eec8a38-b387-44d2-b8f1-9707d55f1c84",
   "metadata": {},
   "source": [
    "```{index} Anaconda software installer\n",
    "```\n",
    "\n",
    "The first step is to install the software, if you have not done so already, and there are multiple options for software installation. The first is to install Python followed by Jupyter, IPython, and all of the libraries. This is a tedious process. The faster and more convenient approach is to use an installer that brings nearly all the software with it. The Anaconda installer (link below) provided for free by Continuum Analytics is a very popular option that does exactly this. There are other installation options available, but the instructions in this book for launching applications assumes Anaconda. When installing the software, be sure to choose **Python 3** as this is the current version. While some applications still support Python 2, it is technically legacy with support being gradually removed. As of the time of this writing, multiple major projects in the scientific Python ecosystem no longer support Python 2, so it is likely in your interest to be on Python 3. You are strongly encouraged to install the most recent version of Python.\n",
    "\n",
    "[Anaconda Installer](https://www.anaconda.com/download/)\n",
    "\n",
    "The Anaconda installer above brings almost everything you need. Any software used in this book that is not installed either by default or through the above method is addressed in its respective chapter. If you want to install additional libraries, open the Anaconda-Navigator (green circle icon) and select the **Environment** tab on the left. Select **Not Installed** from the pull-down menu to see all the libraries available to be installed as shown in Figure 1. To install a library, check the box next to it and click the **Apply** button that appears on the bottom right. Anaconda will install it and anything else that is required for the new library to work properly. To update a library, select **Upgradable** from the pull-down menu, select the package(s) you want to update, and click **Apply**. \n",
    "\n",
    "![](img/Not_installed_screen.png)\n",
    "**Figure 1** Installing additional libraries using Anaconda-Navigator.\n",
    "\n",
    "Alternatively, you can install many of the libraries using the Terminal. To launch the Terminal, either use your computers build-in terminal or launch JupyterLab (see [section 0.3](0.3)) and select the **Launcher** tab in JupyterLab and click **Terminal**. \n",
    "\n",
    "![](img/jupyterlab_launcher.png)\n",
    "**Figure 2** Launching the terminal using from the JupyterLab launcher.\n",
    "\n",
    "From there, you can install various libraries using either of the below commands where `<library>` is the name of the library to install.\n",
    "\n",
    "`pip install <library>`\n",
    "\n",
    "or\n",
    "\n",
    "`conda install <library>`\n",
    "\n",
    "Most libraries can be installed using either of the above commands, but a few can only be installed with one. You should do a quick internet search to see which is the prefered method for a particular library before installing it. The `pip list` or `conda list` command will display a list of all libraries currently installed with version numbers. To perform an update, the following two commands may be used for many libraries. Again, check to see which is preferred for a particular library.\n",
    "\n",
    "`pip install <library> --update`\n",
    "\n",
    "`conda upgrade <library>`"
   ]
  },
  {
   "cell_type": "markdown",
   "id": "af017280-1e9e-46c2-b120-d7c1de072eb6",
   "metadata": {},
   "source": [
    "(0.3)=\n",
    "## 0.3 Project Jupyter"
   ]
  },
  {
   "cell_type": "markdown",
   "id": "8a56eaeb-c36a-48e1-90dd-14c49d8badcd",
   "metadata": {},
   "source": [
    "The Jupyter notebook (formerly known as the IPython notebook) is an electronic document designed to support interactive data processing, analysis, and visualization in an easily shared format. A Jupyter notebook can contain live code, equations, explanatory text, and the output of code such as values, text, images, and plots. The code and examples in this book are intended to be run from a Jupyter notebook but should work fine in many other environments including a basic IPython terminal.\n",
    "\n",
    "````{margin}\n",
    "```{note}\n",
    "The name changed as a result of support for more programming languages beyond Python. The name Jupyter was forged from Julia/Python/R, the first three languages supported, and is a nod to Galileo Galilei for his notebooks where he sketched the planet Jupiter and moons as observed through his telescope. The Jupyter notebook currently supports dozens of programming languages, but for this book, we will only be addressing Python.\n",
    "```\n",
    "````\n",
    "\n",
    "If you already have Python and Jupyter installed, a Jupyter notebook can be launched by either starting the **Navigator** application (green circle icon) and then clicking the **Launch** button under JupyterLab. Alternatively, Jupyter can be launched from the Terminal or shell by typing `jupyter-lab`. The Jupyter notebook will launch in the web browser, but this is *not* a website or web application. An internet browser is fundamentally a fancy image and document viewer that displays documents and images from web servers, but it can also view files on your own computer. From here, you can either select an already existing Jupyter notebook, denoted by the orange icons and **.ipynb** extension (Figure 3, left), to open it or create a new notebook by selecting **New** from the **File** menu (Figure 3, right) and selecting **Notebook**. If a popup dialogue appears titled **Select Kernel**, you should select **Python 3**.\n",
    "\n",
    "![](img/launch_notebook.png)\n",
    "**Figure 3** Launching a Jupyter notebook can be accomplished by opening a preexisting notebook from within JupyterLab (left) or launching a new Jupyter notebook from the File menu (right)."
   ]
  },
  {
   "cell_type": "markdown",
   "id": "d6f8134d-4922-46bd-8123-caf4d0e3515e",
   "metadata": {},
   "source": [
    "The Jupyter notebook is structured as a series of cells of two main types: code and markdown. The *code cells* contain live Python code that can be run inside the notebook with any output of the code, including values, text, and plots, appearing directly below the cell. The *markdown cell* is the other common cell type and is designed to contain explanatory information on what is happening in the code cells. They can contain text, equations, and images to help the user convey information. Markdown cells support formatting in markdown, html, and Latex. These two types of cells provide the user with the ability to produce documents containing the data analysis, results, and explanations of the data and analysis along with any conclusions.\n",
    "\n",
    "Both code and markdown cells can be run by either selecting **Run Selected Cells** in the **Run menu**, by clicking the ► button at the top of the notebook (Figure 4), or by using the **Shift + Return** shortcut. When a code cell is run, the code is executed with any output appearing directly below. When a markdown cell is executed, the text in the cell is rendered to look nicer, and any html or Latex code is rendered to generate the equation(s) or desired formatting. Markdown cells do not execute Python code and treat it like regular text.\n",
    "\n",
    "![](img/run_cell.png)\n",
    "**Figure 4** Run a selected cell in a Jupyter notebook by clicking the  ► button at the top of the notebook or by selecting Run Selected Cells from the Run menu. The output of a code cell appears directly below the executed code cell."
   ]
  },
  {
   "cell_type": "markdown",
   "id": "54699063-6f2f-4d2e-8aa1-def55153a16c",
   "metadata": {},
   "source": [
    "(0.4)=\n",
    "## 0.4 Markdown"
   ]
  },
  {
   "cell_type": "markdown",
   "id": "6d3c7374-6f82-4637-8942-2f579ea4de83",
   "metadata": {},
   "source": [
    "*Markdown* is a light-weight markup language that allows users to make bold, italic, or monospaced text and various kinds of lists and other simple formatting. The table below provides a collection of common markdown syntax (left) with the corresponding rendered result (right). These are worth knowing to generate sharp markdown cells in your Jupyter notebooks. You will likely find that regular usage will commit them to memory.\n",
    "\n",
    "**Table 1** Markdown Syntax\n",
    "\n",
    "| Markdown Syntax | Result |\n",
    "| :-------------: | :----: |\n",
    "| # Header        | Header |\n",
    "| ## Sub-Header   |Sub-header |\n",
    "| ## Sub-Sub-Header | Sub-Sub-Header |\n",
    "| * Italic *      | Italic |\n",
    "|  ** Bold **     |  Bold  |\n",
    "|  \\`Monospace`    | Monospace |\n",
    "|  \\---            | Line across page |\n",
    "| * Item          | Bulleted item in line |\n",
    "| 1. Item         | Numbered list item |\n",
    "| \\[link](www.python.org) | URL link |\n",
    "\n",
    "One difference between writing code in a code cell versus a markdown cell is that markdown cells color code the text based on the syntax or the role the text plays in the code, known as *syntax highlighting*, and markdown cells don't. It would be like if a word processor colored nouns grey, verbs orange, prepositions blue, and punctuation marks red so that reader can see the role each word or symbol plays in a sentence. If you want to include example text in a markdown cell with syntax highlighting, place `~~~python` in the line above the code and `~~~` in the line below the code."
   ]
  },
  {
   "cell_type": "markdown",
   "id": "cc66cc82-c7c3-4262-a134-f67d8795921a",
   "metadata": {},
   "source": [
    "(0.5)=\n",
    "## 0.5 Comments\n",
    "\n",
    "```{index} comments\n",
    "```"
   ]
  },
  {
   "cell_type": "markdown",
   "id": "e28c72c1-e06c-467b-862e-fe9cf456b3d3",
   "metadata": {},
   "source": [
    "Along with markdown cells, it is good practice to add comments to your code. Comments are a means of describing what each section of code does and makes it easier for you and others to navigate the code. It may seem clear to you what each piece of code does as you write it, but after a week, month, or longer, it is unlikely to be as obvious. Paul Wilson from the University of Wisconsin at Madison once elegantly described the importance of comments in stating that the \"Your closest collaborator is you six months ago, but you don’t reply to emails.\" Comment your code now so that you are not confused later.\n",
    "\n",
    "The code comments are added directly to code cells using the hash `#` symbol. Anything in a line after a hash symbol is not executed. This means that an entire line can be a comment or a comment can be added after code as demonstrated below with comments colored differently than the rest of the code.\n",
    "\n",
    "~~~python\n",
    "import numpy as np\n",
    "\n",
    "particles = 10000   # number of particles\n",
    "steps = 1000        # steps in simulation\n",
    "\n",
    "# steps to iterate over\n",
    "t = np.arange(0, steps)\n",
    "\n",
    "loc = np.zeros(particles)  # particle locations\n",
    "\n",
    "rng = np.random.default_rng()\n",
    "for frame in t:\n",
    "    # add random value to locations\n",
    "    loc += 2 * (rng.random(particles) - 0.5)\n",
    "~~~"
   ]
  },
  {
   "cell_type": "markdown",
   "id": "8a905304-6c32-461d-8e9f-771879a097aa",
   "metadata": {
    "editable": true,
    "slideshow": {
     "slide_type": ""
    },
    "tags": [
     "remove-output"
    ]
   },
   "source": [
    "(0.6)=\n",
    "## 0.6 SciPy Stack"
   ]
  },
  {
   "cell_type": "markdown",
   "id": "2c023066-319c-4430-b9f6-84387bd16a95",
   "metadata": {},
   "source": [
    "The Python programming language allows for add-ons known as *libraries* to provide extra features. Each library is a collection of *modules*, and each module is a collection of *functions*... or occasionally data. For example, the SciPy library contains a module called `integrate` which contains a collection of functions for integrating equations or sampled data. For scientific applications, there is a series of core libraries collectively known as the *SciPy stack* along with many other popular libraries. The table below lists some of the common libraries for scientific applications with an asterisk by those often considered part of the SciPy stack.\n",
    "\n",
    "**Table 2** Common Python Scientific Libraries\n",
    "\n",
    "\n",
    "| Library     |  Description       |\n",
    "| :---------: | :--------------    |\n",
    "| NumPy*   | Foundation of the SciPy stack and provides arrays and a large collection of mathematical functions|\n",
    "| SciPy*  | Scientific data analysis tools for common scientific data analysis tasks including signal analysis, Fourier transform, integration, linear algebra, optimization, feature identification, and others|\n",
    "|  Matplotlib*  | Popular and powerful plotting library  |\n",
    "| Scikit-Image*  | Scientific image processing and analysis  |\n",
    "| Seaborn    |  Advanced plotting library built on matplotlib |\n",
    "| SymPy*  |  Symbolic mathematics (somewhat analogous to Mathematica) |\n",
    "| Pandas* | Advanced data analysis tools  |\n",
    "| Scikit-Learn | Machine learning tools |\n",
    "| TensorFlow | Machine learning tools for neural networks |\n",
    "| NMRglue | Nuclear magnetic resonance data processing |\n",
    "| Biopython | Computational biology and bioinformatics |\n",
    "| Scikit-Bio | Computational biology and bioinformatics |"
   ]
  },
  {
   "cell_type": "markdown",
   "id": "74e15b93-9f47-4b6e-bb6d-4b312d2e350d",
   "metadata": {},
   "source": [
    "---"
   ]
  },
  {
   "cell_type": "markdown",
   "id": "cd7085e4-f912-447a-9f29-1849d373d239",
   "metadata": {},
   "source": [
    "## Further Reading\n",
    "\n",
    "For further reading and exploration on Jupyter notebooks, the Jupyter Project website below is a good place to see what is happening. There are also a number of books that include chapters on the Jupyter notebooks and the interactive IPython environment.\n",
    "\n",
    "1. Jupyter Project Website. [https://jupyter.org/](https://jupyter.org/) (free resource)\n",
    "2. SciPy Website. [https://www.scipy.org/](https://www.scipy.org/) (free resource)\n",
    "3. IPython Interactive Computing Website. [https://ipython.org/](https://ipython.org/) (free resource)\n",
    "4. VanderPlas, J. Python data Science Handbook: Essential Tools for Working with Data, 1st ed.; O’Reilly: Sebastopol, CA, 2017, chapter 1. A free, online version is available from the author at [https://github.com/jakevdp/PythonDataScienceHandbook](https://github.com/jakevdp/PythonDataScienceHandbook) (free resource)"
   ]
  },
  {
   "cell_type": "code",
   "execution_count": null,
   "id": "81b7b637-8b95-444a-9ee9-c25e09e58700",
   "metadata": {},
   "outputs": [],
   "source": []
  }
 ],
 "metadata": {
  "kernelspec": {
   "display_name": "Python 3 (ipykernel)",
   "language": "python",
   "name": "python3"
  },
  "language_info": {
   "codemirror_mode": {
    "name": "ipython",
    "version": 3
   },
   "file_extension": ".py",
   "mimetype": "text/x-python",
   "name": "python",
   "nbconvert_exporter": "python",
   "pygments_lexer": "ipython3",
   "version": "3.10.8"
  }
 },
 "nbformat": 4,
 "nbformat_minor": 5
}
